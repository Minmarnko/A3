{
 "cells": [
  {
   "cell_type": "markdown",
   "metadata": {},
   "source": [
    "# 0. Importing Libraries"
   ]
  },
  {
   "cell_type": "code",
   "execution_count": 1,
   "metadata": {},
   "outputs": [
    {
     "name": "stderr",
     "output_type": "stream",
     "text": [
      "c:\\Users\\Jue\\Desktop\\A3\\.venv\\Lib\\site-packages\\tqdm\\auto.py:21: TqdmWarning: IProgress not found. Please update jupyter and ipywidgets. See https://ipywidgets.readthedocs.io/en/stable/user_install.html\n",
      "  from .autonotebook import tqdm as notebook_tqdm\n"
     ]
    },
    {
     "name": "stdout",
     "output_type": "stream",
     "text": [
      "cuda\n"
     ]
    }
   ],
   "source": [
    "import torch, torchdata, torchtext\n",
    "from torch import nn\n",
    "import torch.nn.functional as F\n",
    "\n",
    "import random, math, time\n",
    "import datasets\n",
    "import matplotlib.pyplot as plt\n",
    "import torch.optim as optim\n",
    "\n",
    "# Set device as GPU if available, else set to CPU\n",
    "device = torch.device('cuda' if torch.cuda.is_available() else 'cpu')\n",
    "# device = 'cpu'\n",
    "print(device)\n",
    "\n",
    "#make our work comparable if restarted the kernel\n",
    "SEED = 1234\n",
    "torch.manual_seed(SEED)\n",
    "torch.backends.cudnn.deterministic = True"
   ]
  },
  {
   "cell_type": "markdown",
   "metadata": {},
   "source": [
    "# 1. ETL: Loading dataset"
   ]
  },
  {
   "cell_type": "code",
   "execution_count": 2,
   "metadata": {},
   "outputs": [],
   "source": [
    "import datasets\n",
    "\n",
    "# Processed TALPCo dataset\n",
    "corpus = datasets.load_dataset('minmarn/data_eng_myn_2')"
   ]
  },
  {
   "cell_type": "code",
   "execution_count": 3,
   "metadata": {},
   "outputs": [
    {
     "data": {
      "text/plain": [
       "DatasetDict({\n",
       "    train: Dataset({\n",
       "        features: ['eng', 'myn'],\n",
       "        num_rows: 1097\n",
       "    })\n",
       "    test: Dataset({\n",
       "        features: ['eng', 'myn'],\n",
       "        num_rows: 138\n",
       "    })\n",
       "    validation: Dataset({\n",
       "        features: ['eng', 'myn'],\n",
       "        num_rows: 137\n",
       "    })\n",
       "})"
      ]
     },
     "execution_count": 3,
     "metadata": {},
     "output_type": "execute_result"
    }
   ],
   "source": [
    "corpus"
   ]
  },
  {
   "cell_type": "markdown",
   "metadata": {},
   "source": [
    "## Extract language pair"
   ]
  },
  {
   "cell_type": "code",
   "execution_count": 4,
   "metadata": {},
   "outputs": [],
   "source": [
    "SRC_LANGUAGE = 'eng' # English\n",
    "TRG_LANGUAGE = 'myn' # Myanmar"
   ]
  },
  {
   "cell_type": "code",
   "execution_count": 5,
   "metadata": {},
   "outputs": [
    {
     "data": {
      "text/plain": [
       "'There are seven eggs in the refrigerator.'"
      ]
     },
     "execution_count": 5,
     "metadata": {},
     "output_type": "execute_result"
    }
   ],
   "source": [
    "corpus['train'][1][SRC_LANGUAGE]"
   ]
  },
  {
   "cell_type": "code",
   "execution_count": 6,
   "metadata": {},
   "outputs": [
    {
     "data": {
      "text/plain": [
       "'ရေခဲသေတ္တာထဲမှာ ကြက်ဥ ခုနစ်လုံး ရှိတယ်။'"
      ]
     },
     "execution_count": 6,
     "metadata": {},
     "output_type": "execute_result"
    }
   ],
   "source": [
    "corpus['train'][1][TRG_LANGUAGE]"
   ]
  },
  {
   "cell_type": "markdown",
   "metadata": {},
   "source": [
    "# 2. Preprocessing"
   ]
  },
  {
   "cell_type": "markdown",
   "metadata": {},
   "source": [
    "## Tokenization, Numericalization"
   ]
  },
  {
   "cell_type": "code",
   "execution_count": 7,
   "metadata": {},
   "outputs": [],
   "source": [
    "# Place-holders\n",
    "token_transform = {}\n",
    "vocab_transform = {}"
   ]
  },
  {
   "cell_type": "markdown",
   "metadata": {},
   "source": [
    "## Myanmar segmentation tool (myWord)"
   ]
  },
  {
   "cell_type": "code",
   "execution_count": 8,
   "metadata": {},
   "outputs": [],
   "source": [
    "import math\n",
    "import functools\n",
    "import sys\n",
    "import pickle\n",
    "\n",
    "sys.setrecursionlimit(10**6)\n",
    "\n",
    "# Myanmar syllable combination dictionaries (pretrained)\n",
    "UNI_DICT_BIN = './app/data/unigram-word.bin'\n",
    "BI_DICT_BIN = './app/data/bigram-word.bin'                \n",
    "\n",
    "def read_dict(file_path):\n",
    "    \"\"\"Reads a binary dictionary file and returns its contents.\"\"\"\n",
    "    try:\n",
    "        with open(file_path, 'rb') as file:\n",
    "            return pickle.load(file)\n",
    "    except FileNotFoundError:\n",
    "        print(f\"Dictionary file {file_path} not found!\")\n",
    "        return {}\n",
    "\n",
    "class ProbDist(dict):\n",
    "    \"\"\"Probability distribution estimated from unigram/bigram data.\"\"\"\n",
    "    \n",
    "    def __init__(self, datafile=None, unigram=True, total_count=102490):\n",
    "        super().__init__()\n",
    "        data = read_dict(datafile)\n",
    "        self.update(data)\n",
    "        self.total_count = total_count\n",
    "\n",
    "        self.unknown_prob = (\n",
    "            lambda word, N: 10 / (N * 10**len(word)) if unigram else lambda _, N: 1 / N\n",
    "        )\n",
    "\n",
    "    def __call__(self, key):\n",
    "        \"\"\"Returns the probability of a word, falling back on unknown probability estimation.\"\"\"\n",
    "        return self.get(key, 0) / self.total_count if key in self else self.unknown_prob(key, self.total_count)\n",
    "\n",
    "# Load probability distributions\n",
    "P_UNIGRAM = ProbDist(UNI_DICT_BIN, unigram=True)\n",
    "P_BIGRAM = ProbDist(BI_DICT_BIN, unigram=False)\n",
    "\n",
    "def conditional_prob(current_word, previous_word):\n",
    "    \"\"\"Computes conditional probability P(current_word | previous_word).\"\"\"\n",
    "    bigram = f\"{previous_word} {current_word}\"\n",
    "    return P_BIGRAM[bigram] / P_UNIGRAM[previous_word] if bigram in P_BIGRAM else P_UNIGRAM(current_word)\n",
    "\n",
    "@functools.lru_cache(maxsize=2**10)\n",
    "def viterbi(text, previous_word=\"<S>\", max_length=20):\n",
    "    \"\"\"Viterbi algorithm for word segmentation based on maximum probability.\"\"\"\n",
    "    if not text:\n",
    "        return 0.0, []\n",
    "\n",
    "    max_length = min(len(text), max_length)\n",
    "    splits = [(text[:i + 1], text[i + 1:]) for i in range(max_length)]\n",
    "\n",
    "    candidates = [\n",
    "        (\n",
    "            math.log10(conditional_prob(first_word, previous_word)) + remain_prob,\n",
    "            [first_word] + remain_words\n",
    "        )\n",
    "        for first_word, remaining_text in splits\n",
    "        for remain_prob, remain_words in [viterbi(remaining_text, first_word)]\n",
    "    ]\n",
    "\n",
    "    return max(candidates, key=lambda x: x[0])\n"
   ]
  },
  {
   "cell_type": "code",
   "execution_count": 9,
   "metadata": {},
   "outputs": [],
   "source": [
    "def my_tokenizer(text):\n",
    "    \"\"\"Myanmar tokenizer using Viterbi segmentation.\"\"\"\n",
    "    if not text:\n",
    "        return []  # Handle None or empty input gracefully\n",
    "\n",
    "    word_delimiter = '|'  # Define the word delimiter\n",
    "    processed_text = text.replace(\" \", \"\").strip()  # Remove spaces before processing\n",
    "\n",
    "    # Perform Viterbi segmentation\n",
    "    _, segmented_words = viterbi(processed_text)\n",
    "\n",
    "    # Join words with delimiter, clean up formatting, and split back into a list\n",
    "    cleaned_text = word_delimiter.join(segmented_words).strip(word_delimiter)\n",
    "    return cleaned_text.split(word_delimiter)\n"
   ]
  },
  {
   "cell_type": "markdown",
   "metadata": {},
   "source": [
    "## Tokenizers"
   ]
  },
  {
   "cell_type": "code",
   "execution_count": 10,
   "metadata": {},
   "outputs": [
    {
     "name": "stdout",
     "output_type": "stream",
     "text": [
      "Torch Version: 2.2.0+cu118\n",
      "TorchText Version: 0.17.0+cpu\n",
      "CUDA Available: True\n",
      "CUDA Version: 11.8\n"
     ]
    }
   ],
   "source": [
    "print(\"Torch Version:\", torch.__version__)\n",
    "print(\"TorchText Version:\", torchtext.__version__)\n",
    "print(\"CUDA Available:\", torch.cuda.is_available())\n",
    "print(\"CUDA Version:\", torch.version.cuda)"
   ]
  },
  {
   "cell_type": "code",
   "execution_count": 11,
   "metadata": {},
   "outputs": [],
   "source": [
    "from torchtext.data.utils import get_tokenizer\n",
    "token_transform[SRC_LANGUAGE] = get_tokenizer('spacy', language='en_core_web_sm')\n",
    "token_transform[TRG_LANGUAGE] = my_tokenizer"
   ]
  },
  {
   "cell_type": "markdown",
   "metadata": {},
   "source": [
    "## Special token indices"
   ]
  },
  {
   "cell_type": "code",
   "execution_count": 12,
   "metadata": {},
   "outputs": [],
   "source": [
    "# Define special symbols and indices\n",
    "UNK_IDX, PAD_IDX, SOS_IDX, EOS_IDX = 0, 1, 2, 3\n",
    "# Make sure the tokens are in order of their indices to properly insert them in vocab\n",
    "special_symbols = ['<unk>', '<pad>', '<sos>', '<eos>']"
   ]
  },
  {
   "cell_type": "markdown",
   "metadata": {},
   "source": [
    "## Build vocab"
   ]
  },
  {
   "cell_type": "code",
   "execution_count": 13,
   "metadata": {},
   "outputs": [],
   "source": [
    "def yield_tokens(data, language):\n",
    "    if not data:  # Handle None or empty data gracefully\n",
    "        return\n",
    "\n",
    "    language_index = {SRC_LANGUAGE: 0, TRG_LANGUAGE: 1}\n",
    "\n",
    "    for data_sample in data:\n",
    "        if isinstance(data_sample, list):\n",
    "            yield token_transform[language](data_sample[language_index[language]])\n",
    "        elif isinstance(data_sample, dict):\n",
    "            yield token_transform[language](data_sample.get(language, \"\"))\n"
   ]
  },
  {
   "cell_type": "code",
   "execution_count": 14,
   "metadata": {},
   "outputs": [],
   "source": [
    "from torchtext.vocab import build_vocab_from_iterator\n",
    "\n",
    "# Build vocabularies for source and target languages\n",
    "for lang in [SRC_LANGUAGE, TRG_LANGUAGE]:\n",
    "    vocab_transform[lang] = build_vocab_from_iterator(\n",
    "        yield_tokens(corpus['train'], lang), \n",
    "        min_freq=2,  # Tokens appearing less than twice will be treated as UNK\n",
    "        specials=special_symbols,\n",
    "        special_first=True  # Insert special tokens at the beginning\n",
    "    )\n",
    "\n",
    "# Set the default index for unknown tokens (UNK)\n",
    "for lang in [SRC_LANGUAGE, TRG_LANGUAGE]:\n",
    "    vocab_transform[lang].set_default_index(UNK_IDX)\n"
   ]
  },
  {
   "cell_type": "code",
   "execution_count": 15,
   "metadata": {},
   "outputs": [],
   "source": [
    "import pickle\n",
    "\n",
    "pickle.dump(vocab_transform, open('./app/data/vocab.pkl', 'wb'))"
   ]
  },
  {
   "cell_type": "code",
   "execution_count": 16,
   "metadata": {},
   "outputs": [],
   "source": [
    "vocab_transform = pickle.load(open('./app/data/vocab.pkl', 'rb'))"
   ]
  },
  {
   "cell_type": "markdown",
   "metadata": {},
   "source": [
    "## Batching"
   ]
  },
  {
   "cell_type": "code",
   "execution_count": 17,
   "metadata": {},
   "outputs": [],
   "source": [
    "import torch\n",
    "from torch.nn.utils.rnn import pad_sequence\n",
    "from torch.utils.data import DataLoader\n",
    "\n",
    "BATCH_SIZE = 16  # GPU memory limitation\n",
    "\n",
    "# Helper function to apply sequential transformations\n",
    "def sequential_transforms(*transforms):\n",
    "    \"\"\"Applies a sequence of transformations to the input text.\"\"\"\n",
    "    def func(txt_input):\n",
    "        if not txt_input:  # Handle None or empty input\n",
    "            return []\n",
    "        for transform in transforms:\n",
    "            txt_input = transform(txt_input)\n",
    "        return txt_input\n",
    "    return func\n",
    "\n",
    "# Function to add BOS/EOS and convert to tensor\n",
    "def tensor_transform(token_ids):\n",
    "    \"\"\"Adds BOS (start-of-sequence) and EOS (end-of-sequence) tokens and converts to tensor.\"\"\"\n",
    "    return torch.cat((\n",
    "        torch.tensor([SOS_IDX], dtype=torch.int64),\n",
    "        torch.tensor(token_ids, dtype=torch.int64),\n",
    "        torch.tensor([EOS_IDX], dtype=torch.int64)\n",
    "    ))\n",
    "\n",
    "# Define text transformations for source and target languages\n",
    "text_transform = {\n",
    "    lang: sequential_transforms(\n",
    "        token_transform[lang],  # Tokenization\n",
    "        vocab_transform[lang],  # Numericalization\n",
    "        tensor_transform        # Add BOS/EOS and create tensor\n",
    "    )\n",
    "    for lang in [SRC_LANGUAGE, TRG_LANGUAGE]\n",
    "}\n",
    "\n",
    "# Collate function for batching data\n",
    "def collate_batch(batch):\n",
    "    \"\"\"Collates data samples into padded batches with lengths.\"\"\"\n",
    "    src_batch, src_len_batch, trg_batch = [], [], []\n",
    "\n",
    "    for lang_data in batch:\n",
    "        for lang, tokens in lang_data.items():\n",
    "            # Convert tokens to tensor, handling None or empty input safely\n",
    "            processed_text = text_transform[lang](tokens) if tokens else torch.empty(0, dtype=torch.int64)\n",
    "            \n",
    "            if lang == SRC_LANGUAGE:\n",
    "                src_batch.append(processed_text)\n",
    "                src_len_batch.append(processed_text.size(0))\n",
    "            elif lang == TRG_LANGUAGE:\n",
    "                trg_batch.append(processed_text)\n",
    "\n",
    "    # Pad source and target sequences\n",
    "    src_batch = pad_sequence(src_batch, padding_value=PAD_IDX, batch_first=True) if src_batch else torch.empty(0)\n",
    "    trg_batch = pad_sequence(trg_batch, padding_value=PAD_IDX, batch_first=True) if trg_batch else torch.empty(0)\n",
    "\n",
    "    # Adjust empty sequences to maximum length in the batch\n",
    "    max_len = src_batch.size(1) if src_batch.numel() > 0 else 0\n",
    "    src_len_batch = [length if length > 0 else max_len for length in src_len_batch]\n",
    "\n",
    "    return src_batch, torch.tensor(src_len_batch, dtype=torch.int64), trg_batch\n"
   ]
  },
  {
   "cell_type": "code",
   "execution_count": 18,
   "metadata": {},
   "outputs": [],
   "source": [
    "from torch.utils.data import DataLoader\n",
    "\n",
    "# Define batch size\n",
    "batch_size = BATCH_SIZE\n",
    "\n",
    "# Create DataLoaders for train, validation, and test sets\n",
    "train_loader = DataLoader(\n",
    "    corpus['train'], batch_size=batch_size, shuffle=True, collate_fn=collate_batch\n",
    ")\n",
    "valid_loader = DataLoader(\n",
    "    corpus['validation'], batch_size=batch_size, shuffle=False, collate_fn=collate_batch\n",
    ")\n",
    "test_loader = DataLoader(\n",
    "    corpus['test'], batch_size=batch_size, shuffle=False, collate_fn=collate_batch\n",
    ")\n",
    "\n",
    "# Alternative (if using a different test corpus)\n",
    "# train_loader = DataLoader(corpus_test, batch_size=batch_size, shuffle=True, collate_fn=collate_batch)\n"
   ]
  },
  {
   "cell_type": "code",
   "execution_count": 19,
   "metadata": {},
   "outputs": [],
   "source": [
    "for eng, _, myn in train_loader:\n",
    "    break"
   ]
  },
  {
   "cell_type": "code",
   "execution_count": 20,
   "metadata": {},
   "outputs": [
    {
     "name": "stdout",
     "output_type": "stream",
     "text": [
      "English shape:  torch.Size([16, 15])\n",
      "Myanmar shape:  torch.Size([16, 19])\n"
     ]
    }
   ],
   "source": [
    "print(\"English shape: \", eng.shape)  # (seq len, batch_size)\n",
    "print(\"Myanmar shape: \", myn.shape)   # (seq len, batch_size)"
   ]
  },
  {
   "cell_type": "markdown",
   "metadata": {},
   "source": [
    "# 3. Model"
   ]
  },
  {
   "cell_type": "markdown",
   "metadata": {},
   "source": [
    "## Encoder"
   ]
  },
  {
   "cell_type": "markdown",
   "metadata": {},
   "source": [
    "### Encoder layer"
   ]
  },
  {
   "cell_type": "code",
   "execution_count": 21,
   "metadata": {},
   "outputs": [],
   "source": [
    "class EncoderLayer(nn.Module):\n",
    "    def __init__(self, hid_dim, n_heads, pf_dim, dropout, device, mech):\n",
    "        super().__init__()\n",
    "\n",
    "        # Layer Normalization\n",
    "        self.self_attn_layer_norm = nn.LayerNorm(hid_dim)\n",
    "        self.ff_layer_norm = nn.LayerNorm(hid_dim)\n",
    "\n",
    "        # Attention and Feedforward Layers\n",
    "        self.self_attention = MultiHeadAttentionLayer(hid_dim, n_heads, dropout, device, mech)\n",
    "        self.feedforward = PositionwiseFeedforwardLayer(hid_dim, pf_dim, dropout)\n",
    "\n",
    "        # Dropout\n",
    "        self.dropout = nn.Dropout(dropout)\n",
    "\n",
    "    def forward(self, src, src_mask):\n",
    "        # Self-Attention\n",
    "        _src, _ = self.self_attention(src, src, src, src_mask)\n",
    "        src = self.self_attn_layer_norm(src + self.dropout(_src))  # Residual Connection & Layer Norm\n",
    "\n",
    "        # Feedforward Layer\n",
    "        _src = self.feedforward(src)\n",
    "        src = self.ff_layer_norm(src + self.dropout(_src))  # Residual Connection & Layer Norm\n",
    "\n",
    "        return src\n"
   ]
  },
  {
   "cell_type": "markdown",
   "metadata": {},
   "source": [
    "### Encoder"
   ]
  },
  {
   "cell_type": "code",
   "execution_count": 22,
   "metadata": {},
   "outputs": [],
   "source": [
    "class Encoder(nn.Module):\n",
    "    def __init__(self, input_dim, hid_dim, n_layers, n_heads, pf_dim, dropout, device, \n",
    "                 mech, max_length=1000):\n",
    "        super().__init__()\n",
    "\n",
    "        self.device = device\n",
    "\n",
    "        # Embedding layers\n",
    "        self.tok_embedding = nn.Embedding(input_dim, hid_dim)\n",
    "        self.pos_embedding = nn.Embedding(max_length, hid_dim)\n",
    "\n",
    "        # Encoder layers\n",
    "        self.layers = nn.ModuleList([\n",
    "            EncoderLayer(hid_dim, n_heads, pf_dim, dropout, device, mech)\n",
    "            for _ in range(n_layers)\n",
    "        ])\n",
    "\n",
    "        # Dropout and scaling\n",
    "        self.dropout = nn.Dropout(dropout)\n",
    "        self.scale = torch.sqrt(torch.tensor(hid_dim, dtype=torch.float32, device=device))\n",
    "\n",
    "    def forward(self, src, src_mask):\n",
    "        batch_size, src_len = src.shape\n",
    "\n",
    "        # Create positional encodings\n",
    "        pos = torch.arange(src_len, device=self.device).unsqueeze(0).expand(batch_size, -1)\n",
    "\n",
    "        # Apply token and positional embeddings\n",
    "        src = self.dropout(self.tok_embedding(src) * self.scale + self.pos_embedding(pos))\n",
    "\n",
    "        # Pass through encoder layers\n",
    "        for layer in self.layers:\n",
    "            src = layer(src, src_mask)\n",
    "\n",
    "        return src\n"
   ]
  },
  {
   "cell_type": "markdown",
   "metadata": {},
   "source": [
    "## Multihead Attention layer"
   ]
  },
  {
   "cell_type": "code",
   "execution_count": 23,
   "metadata": {},
   "outputs": [],
   "source": [
    "class MultiHeadAttentionLayer(nn.Module):\n",
    "    def __init__(self, hid_dim, n_heads, dropout, device, mech):\n",
    "        super().__init__()\n",
    "\n",
    "        assert hid_dim % n_heads == 0, \"hid_dim must be divisible by n_heads\"\n",
    "\n",
    "        self.hid_dim = hid_dim\n",
    "        self.n_heads = n_heads\n",
    "        self.head_dim = hid_dim // n_heads\n",
    "        self.mech = mech  # Attention mechanism type\n",
    "\n",
    "        # Linear projections for Query, Key, and Value\n",
    "        self.fc_q = nn.Linear(hid_dim, hid_dim)\n",
    "        self.fc_k = nn.Linear(hid_dim, hid_dim)\n",
    "        self.fc_v = nn.Linear(hid_dim, hid_dim)\n",
    "\n",
    "        # Additional layers for additive attention\n",
    "        self.v = nn.Linear(self.head_dim, 1)\n",
    "        self.W = nn.Linear(self.head_dim, self.head_dim)  # Used in multiplicative attention\n",
    "        self.U = nn.Linear(self.head_dim, self.head_dim)\n",
    "\n",
    "        # Final output projection\n",
    "        self.fc_o = nn.Linear(hid_dim, hid_dim)\n",
    "\n",
    "        self.dropout = nn.Dropout(dropout)\n",
    "        self.scale = torch.sqrt(torch.tensor(self.head_dim, dtype=torch.float32, device=device))\n",
    "\n",
    "    def forward(self, query, key, value, mask=None):\n",
    "        batch_size, query_len, _ = query.shape\n",
    "        key_len = key.shape[1]\n",
    "\n",
    "        # Apply linear projections\n",
    "        Q = self.fc_q(query)\n",
    "        K = self.fc_k(key)\n",
    "        V = self.fc_v(value)\n",
    "\n",
    "        # Reshape into multiple heads\n",
    "        Q = Q.view(batch_size, query_len, self.n_heads, self.head_dim).permute(0, 2, 1, 3)\n",
    "        K = K.view(batch_size, key_len, self.n_heads, self.head_dim).permute(0, 2, 1, 3)\n",
    "        V = V.view(batch_size, key_len, self.n_heads, self.head_dim).permute(0, 2, 1, 3)\n",
    "        # Shape: [batch_size, n_heads, seq_len, head_dim]\n",
    "\n",
    "        # Compute attention scores based on selected mechanism\n",
    "        if self.mech == 'gen':  # General attention\n",
    "            energy = torch.matmul(Q, K.permute(0, 1, 3, 2)) / self.scale\n",
    "        elif self.mech == 'mul':  # Multiplicative attention\n",
    "            energy = torch.matmul(Q, self.W(K).permute(0, 1, 3, 2)) / self.scale\n",
    "        elif self.mech == 'add':  # Additive attention\n",
    "            # Reshape Q and K for element-wise addition\n",
    "            Q = Q.unsqueeze(3)  # [batch_size, n_heads, query_len, 1, head_dim]\n",
    "            K = K.unsqueeze(2)  # [batch_size, n_heads, 1, key_len, head_dim]\n",
    "\n",
    "            # Compute energy using additive attention formula\n",
    "            energy = self.v(torch.tanh(self.W(Q) + self.U(K))) / self.scale\n",
    "            energy = energy.squeeze(-1)  # Remove last dimension to match [batch_size, n_heads, query_len, key_len]\n",
    "\n",
    "        # Apply mask if provided (e.g., padding mask)\n",
    "        if mask is not None:\n",
    "            energy = energy.masked_fill(mask == 0, -1e10)\n",
    "\n",
    "        # Compute attention weights\n",
    "        attention = torch.softmax(energy, dim=-1)\n",
    "\n",
    "        # Apply attention to values\n",
    "        x = torch.matmul(self.dropout(attention), V)\n",
    "\n",
    "        # Reshape back to original size\n",
    "        x = x.permute(0, 2, 1, 3).contiguous()  # [batch_size, query_len, n_heads, head_dim]\n",
    "        x = x.view(batch_size, query_len, self.hid_dim)  # Merge heads\n",
    "\n",
    "        # Final linear projection\n",
    "        x = self.fc_o(x)\n",
    "\n",
    "        return x, attention\n"
   ]
  },
  {
   "cell_type": "markdown",
   "metadata": {},
   "source": [
    "## Decoder"
   ]
  },
  {
   "cell_type": "markdown",
   "metadata": {},
   "source": [
    "### Decoder layer"
   ]
  },
  {
   "cell_type": "code",
   "execution_count": 24,
   "metadata": {},
   "outputs": [],
   "source": [
    "class MultiHeadAttentionLayer(nn.Module):\n",
    "    def __init__(self, hid_dim, n_heads, dropout, device, mech):\n",
    "        super().__init__()\n",
    "\n",
    "        assert hid_dim % n_heads == 0, \"hid_dim must be divisible by n_heads\"\n",
    "\n",
    "        self.hid_dim = hid_dim\n",
    "        self.n_heads = n_heads\n",
    "        self.head_dim = hid_dim // n_heads\n",
    "        self.mech = mech  # Attention mechanism type\n",
    "\n",
    "        # Linear projections for Query, Key, and Value\n",
    "        self.fc_q = nn.Linear(hid_dim, hid_dim)\n",
    "        self.fc_k = nn.Linear(hid_dim, hid_dim)\n",
    "        self.fc_v = nn.Linear(hid_dim, hid_dim)\n",
    "\n",
    "        # Additional layers for additive attention\n",
    "        self.v = nn.Linear(self.head_dim, 1)\n",
    "        self.W = nn.Linear(self.head_dim, self.head_dim)  # Used in multiplicative attention\n",
    "        self.U = nn.Linear(self.head_dim, self.head_dim)\n",
    "\n",
    "        # Final output projection\n",
    "        self.fc_o = nn.Linear(hid_dim, hid_dim)\n",
    "\n",
    "        self.dropout = nn.Dropout(dropout)\n",
    "        self.scale = torch.sqrt(torch.FloatTensor([self.head_dim])).to(device)\n",
    "\n",
    "    def forward(self, query, key, value, mask=None):\n",
    "        batch_size, query_len, _ = query.shape\n",
    "        key_len = key.shape[1]\n",
    "\n",
    "        # Apply linear projections\n",
    "        Q = self.fc_q(query)\n",
    "        K = self.fc_k(key)\n",
    "        V = self.fc_v(value)\n",
    "\n",
    "        # Reshape into multiple heads\n",
    "        Q = Q.view(batch_size, query_len, self.n_heads, self.head_dim).permute(0, 2, 1, 3)\n",
    "        K = K.view(batch_size, key_len, self.n_heads, self.head_dim).permute(0, 2, 1, 3)\n",
    "        V = V.view(batch_size, key_len, self.n_heads, self.head_dim).permute(0, 2, 1, 3)\n",
    "        # Shape: [batch_size, n_heads, seq_len, head_dim]\n",
    "\n",
    "        # Compute attention scores based on selected mechanism\n",
    "        if self.mech == 'gen':  # General attention\n",
    "            energy = torch.matmul(Q, K.permute(0, 1, 3, 2)) / self.scale\n",
    "        elif self.mech == 'mul':  # Multiplicative attention\n",
    "            energy = torch.matmul(Q, self.W(K).permute(0, 1, 3, 2)) / self.scale\n",
    "        elif self.mech == 'add':  # Additive attention\n",
    "            # Reshape Q and K for element-wise addition\n",
    "            Q = Q.unsqueeze(3)  # [batch_size, n_heads, query_len, 1, head_dim]\n",
    "            K = K.unsqueeze(2)  # [batch_size, n_heads, 1, key_len, head_dim]\n",
    "\n",
    "            # Compute energy using additive attention formula\n",
    "            energy = self.v(torch.tanh(self.W(Q) + self.U(K))) / self.scale\n",
    "            energy = energy.squeeze(-1)  # Remove last dimension to match [batch_size, n_heads, query_len, key_len]\n",
    "\n",
    "        # Apply mask if provided (e.g., padding mask)\n",
    "        if mask is not None:\n",
    "            energy = energy.masked_fill(mask == 0, -1e10)\n",
    "\n",
    "        # Compute attention weights\n",
    "        attention = torch.softmax(energy, dim=-1)\n",
    "\n",
    "        # Apply attention to values\n",
    "        x = torch.matmul(self.dropout(attention), V)\n",
    "\n",
    "        # Reshape back to original size\n",
    "        x = x.permute(0, 2, 1, 3).contiguous()  # [batch_size, query_len, n_heads, head_dim]\n",
    "        x = x.view(batch_size, query_len, self.hid_dim)  # Merge heads\n",
    "\n",
    "        # Final linear projection\n",
    "        x = self.fc_o(x)\n",
    "\n",
    "        return x, attention\n"
   ]
  },
  {
   "cell_type": "code",
   "execution_count": 25,
   "metadata": {},
   "outputs": [],
   "source": [
    "class DecoderLayer(nn.Module):\n",
    "    def __init__(self, hid_dim, n_heads, pf_dim, dropout, device, mech):\n",
    "        super().__init__()\n",
    "\n",
    "        # Layer Normalization\n",
    "        self.self_attn_layer_norm = nn.LayerNorm(hid_dim)\n",
    "        self.enc_attn_layer_norm = nn.LayerNorm(hid_dim)\n",
    "        self.ff_layer_norm = nn.LayerNorm(hid_dim)\n",
    "\n",
    "        # Multi-Head Attention Layers\n",
    "        self.self_attention = MultiHeadAttentionLayer(hid_dim, n_heads, dropout, device, mech)\n",
    "        self.encoder_attention = MultiHeadAttentionLayer(hid_dim, n_heads, dropout, device, mech)\n",
    "\n",
    "        # Feedforward Layer\n",
    "        self.feedforward = PositionwiseFeedforwardLayer(hid_dim, pf_dim, dropout)\n",
    "\n",
    "        # Dropout Layer\n",
    "        self.dropout = nn.Dropout(dropout)\n",
    "\n",
    "    def forward(self, trg, enc_src, trg_mask, src_mask):\n",
    "        # Self-Attention (Masked)\n",
    "        _trg, _ = self.self_attention(trg, trg, trg, trg_mask)\n",
    "        trg = self.self_attn_layer_norm(trg + self.dropout(_trg))  # Residual Connection + Layer Norm\n",
    "\n",
    "        # Encoder-Decoder Attention\n",
    "        _trg, attention = self.encoder_attention(trg, enc_src, enc_src, src_mask)\n",
    "        trg = self.enc_attn_layer_norm(trg + self.dropout(_trg))  # Residual Connection + Layer Norm\n",
    "\n",
    "        # Feedforward Network\n",
    "        _trg = self.feedforward(trg)\n",
    "        trg = self.ff_layer_norm(trg + self.dropout(_trg))  # Residual Connection + Layer Norm\n",
    "\n",
    "        return trg, attention\n"
   ]
  },
  {
   "cell_type": "markdown",
   "metadata": {},
   "source": [
    "### Decoder"
   ]
  },
  {
   "cell_type": "code",
   "execution_count": 26,
   "metadata": {},
   "outputs": [],
   "source": [
    "class Decoder(nn.Module):\n",
    "    def __init__(self, output_dim, hid_dim, n_layers, n_heads, \n",
    "                 pf_dim, dropout, device, mech, max_length=1000):\n",
    "        super().__init__()\n",
    "\n",
    "        self.device = device\n",
    "        self.mech = mech\n",
    "\n",
    "        # Embedding layers\n",
    "        self.tok_embedding = nn.Embedding(output_dim, hid_dim)\n",
    "        self.pos_embedding = nn.Embedding(max_length, hid_dim)\n",
    "\n",
    "        # Decoder layers\n",
    "        self.layers = nn.ModuleList([\n",
    "            DecoderLayer(hid_dim, n_heads, pf_dim, dropout, device, mech)\n",
    "            for _ in range(n_layers)\n",
    "        ])\n",
    "\n",
    "        # Final output layer\n",
    "        self.fc_out = nn.Linear(hid_dim, output_dim)\n",
    "\n",
    "        # Dropout and scaling\n",
    "        self.dropout = nn.Dropout(dropout)\n",
    "        self.scale = torch.sqrt(torch.FloatTensor([hid_dim])).to(device)\n",
    "\n",
    "    def forward(self, trg, enc_src, trg_mask, src_mask):\n",
    "        batch_size, trg_len = trg.shape\n",
    "\n",
    "        # Create positional encodings\n",
    "        pos = torch.arange(0, trg_len, device=self.device).unsqueeze(0).repeat(batch_size, 1)\n",
    "\n",
    "        # Apply token and positional embeddings\n",
    "        trg = self.dropout(self.tok_embedding(trg) * self.scale + self.pos_embedding(pos))\n",
    "\n",
    "        # Pass through decoder layers\n",
    "        for layer in self.layers:\n",
    "            trg, attention = layer(trg, enc_src, trg_mask, src_mask)\n",
    "\n",
    "        # Compute final output\n",
    "        output = self.fc_out(trg)\n",
    "\n",
    "        return output, attention\n"
   ]
  },
  {
   "cell_type": "markdown",
   "metadata": {},
   "source": [
    "### Positional Feedforward layer"
   ]
  },
  {
   "cell_type": "code",
   "execution_count": 27,
   "metadata": {},
   "outputs": [],
   "source": [
    "class PositionwiseFeedforwardLayer(nn.Module):\n",
    "    def __init__(self, hid_dim, pf_dim, dropout):\n",
    "        super().__init__()\n",
    "\n",
    "        self.fc1 = nn.Linear(hid_dim, pf_dim)\n",
    "        self.fc2 = nn.Linear(pf_dim, hid_dim)\n",
    "        self.dropout = nn.Dropout(dropout)\n",
    "        self.activation = nn.ReLU()\n",
    "\n",
    "    def forward(self, x):\n",
    "        return self.fc2(self.dropout(self.activation(self.fc1(x))))\n"
   ]
  },
  {
   "cell_type": "markdown",
   "metadata": {},
   "source": [
    "## Seq2Seq"
   ]
  },
  {
   "cell_type": "code",
   "execution_count": 28,
   "metadata": {},
   "outputs": [],
   "source": [
    "class Seq2SeqTransformer(nn.Module):\n",
    "    def __init__(self, encoder, decoder, src_pad_idx, trg_pad_idx, device):\n",
    "        super().__init__()\n",
    "\n",
    "        self.encoder = encoder\n",
    "        self.decoder = decoder\n",
    "        self.src_pad_idx = src_pad_idx\n",
    "        self.trg_pad_idx = trg_pad_idx\n",
    "        self.device = device\n",
    "\n",
    "    def make_src_mask(self, src):\n",
    "        return (src != self.src_pad_idx).unsqueeze(1).unsqueeze(2)\n",
    "\n",
    "    def make_trg_mask(self, trg):\n",
    "        batch_size, trg_len = trg.shape\n",
    "\n",
    "        # Padding mask: Ignore padded tokens\n",
    "        trg_pad_mask = (trg != self.trg_pad_idx).unsqueeze(1).unsqueeze(2)\n",
    "\n",
    "        # Look-ahead mask: Prevent attending to future tokens\n",
    "        trg_sub_mask = torch.tril(torch.ones((trg_len, trg_len), device=self.device)).bool()\n",
    "\n",
    "        # Combine both masks\n",
    "        return trg_pad_mask & trg_sub_mask\n",
    "\n",
    "    def forward(self, src, trg):\n",
    "        # Create masks\n",
    "        src_mask = self.make_src_mask(src)\n",
    "        trg_mask = self.make_trg_mask(trg)\n",
    "\n",
    "        # Encode the source sequence\n",
    "        enc_src = self.encoder(src, src_mask)\n",
    "\n",
    "        # Decode the target sequence using the encoded source\n",
    "        output, attention = self.decoder(trg, enc_src, trg_mask, src_mask)\n",
    "\n",
    "        return output, attention\n"
   ]
  },
  {
   "cell_type": "markdown",
   "metadata": {},
   "source": [
    "# 4. Training"
   ]
  },
  {
   "cell_type": "markdown",
   "metadata": {},
   "source": [
    "### Initialize functions"
   ]
  },
  {
   "cell_type": "code",
   "execution_count": 29,
   "metadata": {},
   "outputs": [],
   "source": [
    "def initialize_weights(m):\n",
    "    if hasattr(m, 'weight') and m.weight.dim() > 1:\n",
    "        nn.init.xavier_uniform_(m.weight)\n"
   ]
  },
  {
   "cell_type": "code",
   "execution_count": 30,
   "metadata": {},
   "outputs": [],
   "source": [
    "def initialize_model(attention_mech):\n",
    "    # Define model hyperparameters\n",
    "    INPUT_DIM = len(vocab_transform[SRC_LANGUAGE])\n",
    "    OUTPUT_DIM = len(vocab_transform[TRG_LANGUAGE])\n",
    "    HID_DIM = 256\n",
    "    ENC_LAYERS = 3\n",
    "    DEC_LAYERS = 3\n",
    "    ENC_HEADS = 8\n",
    "    DEC_HEADS = 8\n",
    "    ENC_PF_DIM = 512\n",
    "    DEC_PF_DIM = 512\n",
    "    ENC_DROPOUT = 0.1\n",
    "    DEC_DROPOUT = 0.1\n",
    "\n",
    "    # Initialize Encoder and Decoder\n",
    "    encoder = Encoder(INPUT_DIM, HID_DIM, ENC_LAYERS, ENC_HEADS, ENC_PF_DIM, ENC_DROPOUT, device, attention_mech)\n",
    "    decoder = Decoder(OUTPUT_DIM, HID_DIM, DEC_LAYERS, DEC_HEADS, DEC_PF_DIM, DEC_DROPOUT, device, attention_mech)\n",
    "\n",
    "    # Define padding index\n",
    "    SRC_PAD_IDX = PAD_IDX\n",
    "    TRG_PAD_IDX = PAD_IDX\n",
    "\n",
    "    # Create Transformer model\n",
    "    model = Seq2SeqTransformer(encoder, decoder, SRC_PAD_IDX, TRG_PAD_IDX, device).to(device)\n",
    "\n",
    "    # Apply weight initialization\n",
    "    model.apply(initialize_weights)\n",
    "\n",
    "    return model\n"
   ]
  },
  {
   "cell_type": "code",
   "execution_count": 31,
   "metadata": {},
   "outputs": [],
   "source": [
    "def count_parameters(model):\n",
    "    total_params = sum(p.numel() for p in model.parameters() if p.requires_grad)\n",
    "\n",
    "    print(f\"Total Trainable Parameters: {total_params:,}\")\n",
    "\n",
    "    return total_params\n"
   ]
  },
  {
   "cell_type": "markdown",
   "metadata": {},
   "source": [
    "## General Attention model"
   ]
  },
  {
   "cell_type": "code",
   "execution_count": 32,
   "metadata": {},
   "outputs": [],
   "source": [
    "genmodel = initialize_model('gen')"
   ]
  },
  {
   "cell_type": "code",
   "execution_count": 33,
   "metadata": {},
   "outputs": [
    {
     "name": "stdout",
     "output_type": "stream",
     "text": [
      "Total Trainable Parameters: 4,999,389\n"
     ]
    },
    {
     "data": {
      "text/plain": [
       "4999389"
      ]
     },
     "execution_count": 33,
     "metadata": {},
     "output_type": "execute_result"
    }
   ],
   "source": [
    "count_parameters(genmodel)"
   ]
  },
  {
   "cell_type": "markdown",
   "metadata": {},
   "source": [
    "## Multiplicative Attention model"
   ]
  },
  {
   "cell_type": "code",
   "execution_count": 34,
   "metadata": {},
   "outputs": [],
   "source": [
    "mulmodel = initialize_model('mul')"
   ]
  },
  {
   "cell_type": "code",
   "execution_count": 35,
   "metadata": {},
   "outputs": [
    {
     "name": "stdout",
     "output_type": "stream",
     "text": [
      "Total Trainable Parameters: 4,999,389\n"
     ]
    },
    {
     "data": {
      "text/plain": [
       "4999389"
      ]
     },
     "execution_count": 35,
     "metadata": {},
     "output_type": "execute_result"
    }
   ],
   "source": [
    "#we can print the complexity by the number of parameters   \n",
    "count_parameters(mulmodel)"
   ]
  },
  {
   "cell_type": "markdown",
   "metadata": {},
   "source": [
    "## Additive Attention model"
   ]
  },
  {
   "cell_type": "code",
   "execution_count": 36,
   "metadata": {},
   "outputs": [],
   "source": [
    "addmodel = initialize_model('add')"
   ]
  },
  {
   "cell_type": "code",
   "execution_count": 37,
   "metadata": {},
   "outputs": [
    {
     "name": "stdout",
     "output_type": "stream",
     "text": [
      "Total Trainable Parameters: 4,999,389\n"
     ]
    },
    {
     "data": {
      "text/plain": [
       "4999389"
      ]
     },
     "execution_count": 37,
     "metadata": {},
     "output_type": "execute_result"
    }
   ],
   "source": [
    "#we can print the complexity by the number of parameters   \n",
    "count_parameters(addmodel)"
   ]
  },
  {
   "cell_type": "markdown",
   "metadata": {},
   "source": [
    "## Optimizer and learning rate"
   ]
  },
  {
   "cell_type": "code",
   "execution_count": 38,
   "metadata": {},
   "outputs": [],
   "source": [
    "import torch.optim as optim\n",
    "import torch.nn as nn\n",
    "\n",
    "# Define learning rate\n",
    "lr = 0.001\n",
    "\n",
    "# Training hyperparameters\n",
    "def initialize_optimizer_and_loss(model):\n",
    "    optimizer = optim.Adam(model.parameters(), lr=lr)\n",
    "    criterion = nn.CrossEntropyLoss(ignore_index=PAD_IDX)  # Ignores padding index in loss calculation\n",
    "\n",
    "    return optimizer, criterion\n",
    "\n",
    "# Initialize for different models\n",
    "optimizer_gen, criterion_gen = initialize_optimizer_and_loss(genmodel)\n",
    "optimizer_mul, criterion_mul = initialize_optimizer_and_loss(mulmodel)\n",
    "optimizer_add, criterion_add = initialize_optimizer_and_loss(addmodel)\n"
   ]
  },
  {
   "cell_type": "markdown",
   "metadata": {},
   "source": [
    "## Train/ Evaluate functions"
   ]
  },
  {
   "cell_type": "code",
   "execution_count": 39,
   "metadata": {},
   "outputs": [],
   "source": [
    "import torch\n",
    "\n",
    "def train(model, loader, optimizer, criterion, clip, loader_length):\n",
    "    model.train()\n",
    "    epoch_loss = 0\n",
    "\n",
    "    for src, src_len, trg in loader:\n",
    "        src, trg = src.to(device), trg.to(device)\n",
    "\n",
    "        optimizer.zero_grad()\n",
    "\n",
    "        # Remove <EOS> from target input (for teacher forcing)\n",
    "        output, _ = model(src, trg[:, :-1])\n",
    "\n",
    "        # Reshape output and target for loss computation\n",
    "        output_dim = output.shape[-1]\n",
    "        output = output.reshape(-1, output_dim)  # [batch_size * (trg_len - 1), output_dim]\n",
    "        trg = trg[:, 1:].reshape(-1)  # Remove <SOS> from target\n",
    "\n",
    "        # Compute loss\n",
    "        loss = criterion(output, trg)\n",
    "\n",
    "        # Backpropagation and optimization\n",
    "        loss.backward()\n",
    "        torch.nn.utils.clip_grad_norm_(model.parameters(), clip)  # Gradient clipping\n",
    "        optimizer.step()\n",
    "\n",
    "        epoch_loss += loss.item()\n",
    "\n",
    "    return epoch_loss / loader_length\n"
   ]
  },
  {
   "cell_type": "code",
   "execution_count": 40,
   "metadata": {},
   "outputs": [],
   "source": [
    "import torch\n",
    "\n",
    "def evaluate(model, loader, criterion, loader_length):\n",
    "    model.eval()\n",
    "    epoch_loss = 0\n",
    "\n",
    "    with torch.no_grad():\n",
    "        for src, src_len, trg in loader:\n",
    "            src, trg = src.to(device), trg.to(device)\n",
    "\n",
    "            # Remove <EOS> from target input\n",
    "            output, _ = model(src, trg[:, :-1])\n",
    "\n",
    "            # Reshape output and target for loss computation\n",
    "            output_dim = output.shape[-1]\n",
    "            output = output.view(-1, output_dim)  # [batch_size * (trg_len - 1), output_dim]\n",
    "            trg = trg[:, 1:].reshape(-1)  # Remove <SOS> from target\n",
    "\n",
    "            # Compute loss\n",
    "            loss = criterion(output, trg)\n",
    "            epoch_loss += loss.item()\n",
    "\n",
    "    return epoch_loss / loader_length\n"
   ]
  },
  {
   "cell_type": "code",
   "execution_count": 41,
   "metadata": {},
   "outputs": [],
   "source": [
    "train_loader_length = len(train_loader)\n",
    "val_loader_length = len(valid_loader)\n",
    "test_loader_length = len(test_loader)"
   ]
  },
  {
   "cell_type": "code",
   "execution_count": 42,
   "metadata": {},
   "outputs": [],
   "source": [
    "def epoch_time(start_time, end_time):\n",
    "    elapsed_time = end_time - start_time\n",
    "    elapsed_mins = elapsed_time // 60  # Floor division for integer minutes\n",
    "    elapsed_secs = int(elapsed_time % 60)  # Modulus for remaining seconds\n",
    "\n",
    "    return int(elapsed_mins), elapsed_secs\n"
   ]
  },
  {
   "cell_type": "code",
   "execution_count": 43,
   "metadata": {},
   "outputs": [],
   "source": [
    "import time\n",
    "import torch\n",
    "import math\n",
    "\n",
    "def train_loop(model, optimizer, criterion, num_epochs=10, clip=1):\n",
    "    best_valid_loss = float('inf')\n",
    "    best_train_loss = 0\n",
    "\n",
    "    # Define model save path\n",
    "    save_path = f'./app/models/{model.decoder.mech}model.pt'\n",
    "\n",
    "    # Store training and validation losses\n",
    "    train_losses, valid_losses = [], []\n",
    "\n",
    "    total_start = time.time()  # Track total training time\n",
    "\n",
    "    for epoch in range(num_epochs):\n",
    "        start_time = time.time()\n",
    "\n",
    "        # Train and evaluate\n",
    "        train_loss = train(model, train_loader, optimizer, criterion, clip, train_loader_length)\n",
    "        valid_loss = evaluate(model, valid_loader, criterion, val_loader_length)\n",
    "\n",
    "        # Store losses for plotting\n",
    "        train_losses.append(train_loss)\n",
    "        valid_losses.append(valid_loss)\n",
    "\n",
    "        end_time = time.time()\n",
    "        epoch_mins, epoch_secs = epoch_time(start_time, end_time)\n",
    "\n",
    "        # Save best model (based on validation loss)\n",
    "        if valid_loss < best_valid_loss:\n",
    "            best_valid_loss = valid_loss\n",
    "            best_train_loss = train_loss\n",
    "            torch.save(model.state_dict(), save_path)\n",
    "\n",
    "        # Print epoch summary\n",
    "        print(f'Epoch: {epoch+1:02} | Time: {epoch_mins}m {epoch_secs}s')\n",
    "        print(f'\\tTrain Loss: {train_loss:.3f} | Train PPL: {math.exp(train_loss):7.3f}')\n",
    "        print(f'\\t Val. Loss: {valid_loss:.3f} |  Val. PPL: {math.exp(valid_loss):7.3f}')\n",
    "\n",
    "    # Final training time\n",
    "    total_end = time.time()\n",
    "    total_min, total_sec = epoch_time(total_start, total_end)\n",
    "    print(f'Total Training Time: {total_min}m {total_sec}s')\n",
    "\n",
    "    return train_losses, valid_losses, best_valid_loss, best_train_loss\n"
   ]
  },
  {
   "cell_type": "code",
   "execution_count": 44,
   "metadata": {},
   "outputs": [],
   "source": [
    "def test_loop(model):\n",
    "    # Load the best saved model\n",
    "    save_path = f'./app/models/{model.decoder.mech}model.pt'\n",
    "    model.load_state_dict(torch.load(save_path))\n",
    "\n",
    "    # Evaluate on the test dataset\n",
    "    test_loss = evaluate(model, test_loader, criterion_gen, test_loader_length)\n",
    "\n",
    "    # Print test results\n",
    "    print(f'| Test Loss: {test_loss:.3f} | Test PPL: {math.exp(test_loss):7.3f} |')\n",
    "\n",
    "    return test_loss\n"
   ]
  },
  {
   "cell_type": "markdown",
   "metadata": {},
   "source": [
    "### Result function"
   ]
  },
  {
   "cell_type": "code",
   "execution_count": 45,
   "metadata": {},
   "outputs": [],
   "source": [
    "import math\n",
    "\n",
    "def result_print(train_loss, valid_loss):\n",
    "    print(f\"Training Loss   : {train_loss:.3f} | Perplexity: {math.exp(train_loss):7.3f}\")\n",
    "    print(f\"Validation Loss : {valid_loss:.3f} | Perplexity: {math.exp(valid_loss):7.3f}\")\n"
   ]
  },
  {
   "cell_type": "markdown",
   "metadata": {},
   "source": [
    "### Plot function"
   ]
  },
  {
   "cell_type": "code",
   "execution_count": 46,
   "metadata": {},
   "outputs": [],
   "source": [
    "import matplotlib.pyplot as plt\n",
    "\n",
    "def plot_loss(train_losses, valid_losses):\n",
    "    plt.figure(figsize=(6, 4))\n",
    "    \n",
    "    plt.plot(train_losses, label='Training Loss', marker='o', linestyle='-')\n",
    "    plt.plot(valid_losses, label='Validation Loss', marker='s', linestyle='--')\n",
    "    \n",
    "    plt.xlabel('Epochs')\n",
    "    plt.ylabel('Loss')\n",
    "    plt.title('Training & Validation Loss')\n",
    "    plt.legend()\n",
    "    plt.grid(True)\n",
    "    \n",
    "    plt.show()\n"
   ]
  },
  {
   "cell_type": "markdown",
   "metadata": {},
   "source": [
    "## General train"
   ]
  },
  {
   "cell_type": "code",
   "execution_count": 47,
   "metadata": {},
   "outputs": [
    {
     "name": "stdout",
     "output_type": "stream",
     "text": [
      "Epoch: 01 | Time: 0m 15s\n",
      "\tTrain Loss: 4.722 | Train PPL: 112.389\n",
      "\t Val. Loss: 4.214 |  Val. PPL:  67.639\n",
      "Epoch: 02 | Time: 0m 14s\n",
      "\tTrain Loss: 4.017 | Train PPL:  55.547\n",
      "\t Val. Loss: 3.823 |  Val. PPL:  45.761\n",
      "Epoch: 03 | Time: 0m 14s\n",
      "\tTrain Loss: 3.648 | Train PPL:  38.380\n",
      "\t Val. Loss: 3.640 |  Val. PPL:  38.083\n",
      "Epoch: 04 | Time: 0m 14s\n",
      "\tTrain Loss: 3.346 | Train PPL:  28.386\n",
      "\t Val. Loss: 3.509 |  Val. PPL:  33.421\n",
      "Epoch: 05 | Time: 0m 13s\n",
      "\tTrain Loss: 3.110 | Train PPL:  22.417\n",
      "\t Val. Loss: 3.394 |  Val. PPL:  29.788\n",
      "Epoch: 06 | Time: 0m 14s\n",
      "\tTrain Loss: 2.905 | Train PPL:  18.257\n",
      "\t Val. Loss: 3.338 |  Val. PPL:  28.154\n",
      "Epoch: 07 | Time: 0m 13s\n",
      "\tTrain Loss: 2.717 | Train PPL:  15.135\n",
      "\t Val. Loss: 3.268 |  Val. PPL:  26.252\n",
      "Epoch: 08 | Time: 0m 14s\n",
      "\tTrain Loss: 2.541 | Train PPL:  12.688\n",
      "\t Val. Loss: 3.216 |  Val. PPL:  24.937\n",
      "Epoch: 09 | Time: 0m 13s\n",
      "\tTrain Loss: 2.400 | Train PPL:  11.027\n",
      "\t Val. Loss: 3.240 |  Val. PPL:  25.545\n",
      "Epoch: 10 | Time: 0m 14s\n",
      "\tTrain Loss: 2.251 | Train PPL:   9.501\n",
      "\t Val. Loss: 3.245 |  Val. PPL:  25.663\n",
      "Total Training Time: 2m 23s\n",
      "Training Loss   : 2.541 | Perplexity:  12.688\n",
      "Validation Loss : 3.216 | Perplexity:  24.937\n"
     ]
    },
    {
     "data": {
      "image/png": "[encoded data removed]",
      "text/plain": [
       "<Figure size 600x400 with 1 Axes>"
      ]
     },
     "metadata": {},
     "output_type": "display_data"
    }
   ],
   "source": [
    "# Train the model and store losses\n",
    "train_losses, valid_losses, gen_val_loss, gen_train_loss = train_loop(genmodel, optimizer_gen, criterion_gen)\n",
    "\n",
    "# Print final training results\n",
    "result_print(gen_train_loss, gen_val_loss)\n",
    "\n",
    "# Plot loss curves\n",
    "plot_loss(train_losses, valid_losses)\n"
   ]
  },
  {
   "cell_type": "code",
   "execution_count": 48,
   "metadata": {},
   "outputs": [
    {
     "name": "stdout",
     "output_type": "stream",
     "text": [
      "Training Loss   : 2.541 | Perplexity:  12.688\n",
      "Validation Loss : 3.216 | Perplexity:  24.937\n"
     ]
    }
   ],
   "source": [
    "result_print(gen_train_loss, gen_val_loss)"
   ]
  },
  {
   "cell_type": "code",
   "execution_count": 49,
   "metadata": {},
   "outputs": [
    {
     "name": "stdout",
     "output_type": "stream",
     "text": [
      "| Test Loss: 3.283 | Test PPL:  26.664 |\n"
     ]
    },
    {
     "data": {
      "text/plain": [
       "3.2833265198601618"
      ]
     },
     "execution_count": 49,
     "metadata": {},
     "output_type": "execute_result"
    }
   ],
   "source": [
    "test_loop(genmodel)"
   ]
  },
  {
   "cell_type": "markdown",
   "metadata": {},
   "source": [
    "## Multiplicative train"
   ]
  },
  {
   "cell_type": "code",
   "execution_count": 50,
   "metadata": {},
   "outputs": [
    {
     "name": "stdout",
     "output_type": "stream",
     "text": [
      "Epoch: 01 | Time: 0m 14s\n",
      "\tTrain Loss: 4.574 | Train PPL:  96.940\n",
      "\t Val. Loss: 4.055 |  Val. PPL:  57.702\n",
      "Epoch: 02 | Time: 0m 14s\n",
      "\tTrain Loss: 3.796 | Train PPL:  44.509\n",
      "\t Val. Loss: 3.673 |  Val. PPL:  39.364\n",
      "Epoch: 03 | Time: 0m 14s\n",
      "\tTrain Loss: 3.393 | Train PPL:  29.760\n",
      "\t Val. Loss: 3.493 |  Val. PPL:  32.884\n",
      "Epoch: 04 | Time: 0m 15s\n",
      "\tTrain Loss: 3.091 | Train PPL:  22.009\n",
      "\t Val. Loss: 3.297 |  Val. PPL:  27.036\n",
      "Epoch: 05 | Time: 0m 14s\n",
      "\tTrain Loss: 2.817 | Train PPL:  16.729\n",
      "\t Val. Loss: 3.149 |  Val. PPL:  23.321\n",
      "Epoch: 06 | Time: 0m 14s\n",
      "\tTrain Loss: 2.585 | Train PPL:  13.264\n",
      "\t Val. Loss: 3.130 |  Val. PPL:  22.881\n",
      "Epoch: 07 | Time: 0m 14s\n",
      "\tTrain Loss: 2.355 | Train PPL:  10.534\n",
      "\t Val. Loss: 3.149 |  Val. PPL:  23.322\n",
      "Epoch: 08 | Time: 0m 14s\n",
      "\tTrain Loss: 2.169 | Train PPL:   8.750\n",
      "\t Val. Loss: 3.068 |  Val. PPL:  21.490\n",
      "Epoch: 09 | Time: 0m 14s\n",
      "\tTrain Loss: 1.980 | Train PPL:   7.242\n",
      "\t Val. Loss: 3.116 |  Val. PPL:  22.549\n",
      "Epoch: 10 | Time: 0m 14s\n",
      "\tTrain Loss: 1.813 | Train PPL:   6.128\n",
      "\t Val. Loss: 3.138 |  Val. PPL:  23.061\n",
      "Total Training Time: 2m 28s\n",
      "Training Loss   : 3.068 | Perplexity:  21.490\n",
      "Validation Loss : 2.169 | Perplexity:   8.750\n"
     ]
    },
    {
     "data": {
      "image/png": "[encoded data removed]",
      "text/plain": [
       "<Figure size 600x400 with 1 Axes>"
      ]
     },
     "metadata": {},
     "output_type": "display_data"
    }
   ],
   "source": [
    "# Train the multiplicative attention model\n",
    "train_losses, valid_losses, mul_train_loss, mul_val_loss = train_loop(mulmodel, optimizer_mul, criterion_mul)\n",
    "\n",
    "# Print final training results\n",
    "result_print(mul_train_loss, mul_val_loss)\n",
    "\n",
    "# Plot loss curves\n",
    "plot_loss(train_losses, valid_losses)\n"
   ]
  },
  {
   "cell_type": "code",
   "execution_count": 51,
   "metadata": {},
   "outputs": [
    {
     "name": "stdout",
     "output_type": "stream",
     "text": [
      "Training Loss   : 3.068 | Perplexity:  21.490\n",
      "Validation Loss : 2.169 | Perplexity:   8.750\n"
     ]
    }
   ],
   "source": [
    "result_print(mul_train_loss, mul_val_loss)"
   ]
  },
  {
   "cell_type": "code",
   "execution_count": 52,
   "metadata": {},
   "outputs": [
    {
     "name": "stdout",
     "output_type": "stream",
     "text": [
      "| Test Loss: 3.119 | Test PPL:  22.628 |\n"
     ]
    },
    {
     "data": {
      "text/plain": [
       "3.1191855006747775"
      ]
     },
     "execution_count": 52,
     "metadata": {},
     "output_type": "execute_result"
    }
   ],
   "source": [
    "test_loop(mulmodel)"
   ]
  },
  {
   "cell_type": "markdown",
   "metadata": {},
   "source": [
    "## Additive train"
   ]
  },
  {
   "cell_type": "code",
   "execution_count": 53,
   "metadata": {},
   "outputs": [
    {
     "name": "stdout",
     "output_type": "stream",
     "text": [
      "Epoch: 01 | Time: 0m 17s\n",
      "\tTrain Loss: 4.589 | Train PPL:  98.430\n",
      "\t Val. Loss: 3.946 |  Val. PPL:  51.749\n",
      "Epoch: 02 | Time: 0m 14s\n",
      "\tTrain Loss: 3.636 | Train PPL:  37.955\n",
      "\t Val. Loss: 3.453 |  Val. PPL:  31.610\n",
      "Epoch: 03 | Time: 0m 15s\n",
      "\tTrain Loss: 3.068 | Train PPL:  21.500\n",
      "\t Val. Loss: 3.259 |  Val. PPL:  26.012\n",
      "Epoch: 04 | Time: 0m 15s\n",
      "\tTrain Loss: 2.667 | Train PPL:  14.393\n",
      "\t Val. Loss: 3.104 |  Val. PPL:  22.291\n",
      "Epoch: 05 | Time: 0m 15s\n",
      "\tTrain Loss: 2.363 | Train PPL:  10.623\n",
      "\t Val. Loss: 3.027 |  Val. PPL:  20.636\n",
      "Epoch: 06 | Time: 0m 15s\n",
      "\tTrain Loss: 2.101 | Train PPL:   8.174\n",
      "\t Val. Loss: 3.055 |  Val. PPL:  21.232\n",
      "Epoch: 07 | Time: 0m 15s\n",
      "\tTrain Loss: 1.892 | Train PPL:   6.630\n",
      "\t Val. Loss: 3.103 |  Val. PPL:  22.274\n",
      "Epoch: 08 | Time: 0m 15s\n",
      "\tTrain Loss: 1.681 | Train PPL:   5.369\n",
      "\t Val. Loss: 3.085 |  Val. PPL:  21.857\n",
      "Epoch: 09 | Time: 0m 15s\n",
      "\tTrain Loss: 1.522 | Train PPL:   4.584\n",
      "\t Val. Loss: 3.172 |  Val. PPL:  23.844\n",
      "Epoch: 10 | Time: 0m 14s\n",
      "\tTrain Loss: 1.374 | Train PPL:   3.950\n",
      "\t Val. Loss: 3.173 |  Val. PPL:  23.868\n",
      "Total Training Time: 2m 35s\n",
      "Training Loss   : 3.027 | Perplexity:  20.636\n",
      "Validation Loss : 2.363 | Perplexity:  10.623\n"
     ]
    },
    {
     "data": {
      "image/png": "[encoded data removed]",
      "text/plain": [
       "<Figure size 600x400 with 1 Axes>"
      ]
     },
     "metadata": {},
     "output_type": "display_data"
    }
   ],
   "source": [
    "# Train the additive attention model\n",
    "train_losses, valid_losses, add_train_loss, add_val_loss = train_loop(addmodel, optimizer_add, criterion_add)\n",
    "\n",
    "# Print final training results\n",
    "result_print(add_train_loss, add_val_loss)\n",
    "\n",
    "# Plot loss curves\n",
    "plot_loss(train_losses, valid_losses)\n"
   ]
  },
  {
   "cell_type": "code",
   "execution_count": 54,
   "metadata": {},
   "outputs": [
    {
     "name": "stdout",
     "output_type": "stream",
     "text": [
      "Training Loss   : 3.027 | Perplexity:  20.636\n",
      "Validation Loss : 2.363 | Perplexity:  10.623\n"
     ]
    }
   ],
   "source": [
    "result_print(add_train_loss, add_val_loss)"
   ]
  },
  {
   "cell_type": "code",
   "execution_count": 55,
   "metadata": {},
   "outputs": [
    {
     "name": "stdout",
     "output_type": "stream",
     "text": [
      "| Test Loss: 3.071 | Test PPL:  21.559 |\n"
     ]
    },
    {
     "data": {
      "text/plain": [
       "3.0707893636491566"
      ]
     },
     "execution_count": 55,
     "metadata": {},
     "output_type": "execute_result"
    }
   ],
   "source": [
    "test_loop(addmodel)"
   ]
  },
  {
   "cell_type": "markdown",
   "metadata": {},
   "source": [
    "# 5. Inference"
   ]
  },
  {
   "cell_type": "markdown",
   "metadata": {},
   "source": [
    "## Generator function"
   ]
  },
  {
   "cell_type": "code",
   "execution_count": 56,
   "metadata": {},
   "outputs": [],
   "source": [
    "# Retrieve index-to-token mappings for source and target languages\n",
    "mapping = {\n",
    "    SRC_LANGUAGE: vocab_transform[SRC_LANGUAGE].get_itos(),\n",
    "    TRG_LANGUAGE: vocab_transform[TRG_LANGUAGE].get_itos()\n",
    "}\n"
   ]
  },
  {
   "cell_type": "code",
   "execution_count": 57,
   "metadata": {},
   "outputs": [],
   "source": [
    "def greedy_decode(model, src, max_len=50, device=device):\n",
    "    # Convert source sentence to tensor\n",
    "    src_tensor = text_transform[SRC_LANGUAGE](src).to(device).unsqueeze(0)  # Tokenize & convert to tensor\n",
    "    model.eval()\n",
    "\n",
    "    trg_indexes = [SOS_IDX]  # Start with <sos>\n",
    "\n",
    "    for _ in range(max_len):\n",
    "        trg_tensor = torch.LongTensor(trg_indexes).unsqueeze(0).to(device)\n",
    "\n",
    "        with torch.no_grad():\n",
    "            output, attentions = model(src_tensor, trg_tensor)  # Get model prediction\n",
    "        \n",
    "        pred_token = output.argmax(dim=2)[:, -1].item()  # Get highest probability token\n",
    "        trg_indexes.append(pred_token)\n",
    "\n",
    "        if pred_token == EOS_IDX:  # Stop if <eos> is generated\n",
    "            break\n",
    "\n",
    "    # Convert token IDs to words\n",
    "    trg_tokens = [mapping[TRG_LANGUAGE][idx] for idx in trg_indexes]\n",
    "\n",
    "    return trg_tokens[1:], attentions  # Exclude <sos> token\n"
   ]
  },
  {
   "cell_type": "markdown",
   "metadata": {},
   "source": [
    "## General inference"
   ]
  },
  {
   "cell_type": "code",
   "execution_count": null,
   "metadata": {},
   "outputs": [
    {
     "name": "stdout",
     "output_type": "stream",
     "text": [
      "Model loaded successfully.\n"
     ]
    }
   ],
   "source": [
    "# Define model save path\n",
    "save_path = './app/models/genmodel.pt'\n",
    "\n",
    "# Load the trained model\n",
    "try:\n",
    "    genmodel.load_state_dict(torch.load(save_path, map_location=device))\n",
    "    print(\"Model loaded successfully.\")\n",
    "except FileNotFoundError:\n",
    "    print(f\"Error: Model file not found at {save_path}\")\n",
    "except Exception as e:\n",
    "    print(f\"Error loading model: {e}\")\n"
   ]
  },
  {
   "cell_type": "code",
   "execution_count": 59,
   "metadata": {},
   "outputs": [
    {
     "name": "stdout",
     "output_type": "stream",
     "text": [
      "Predicted Sentence: မ နေ့ က ကျောင်း သွား တယ် ။ <eos>\n"
     ]
    }
   ],
   "source": [
    "# Example usage of greedy decoding\n",
    "gen_src_sentence = \"I go to school\"\n",
    "\n",
    "try:\n",
    "    # Perform greedy decoding\n",
    "    gen_output_sentence, gen_attentions = greedy_decode(genmodel, gen_src_sentence, max_len=50, device=device)\n",
    "\n",
    "    # Print the generated sentence\n",
    "    print(\"Predicted Sentence:\", ' '.join(gen_output_sentence))\n",
    "except Exception as e:\n",
    "    print(f\"Error during decoding: {e}\")\n"
   ]
  },
  {
   "cell_type": "markdown",
   "metadata": {},
   "source": [
    "## Multiplicative inference"
   ]
  },
  {
   "cell_type": "code",
   "execution_count": null,
   "metadata": {},
   "outputs": [
    {
     "name": "stdout",
     "output_type": "stream",
     "text": [
      "Multiplicative Attention Model loaded successfully.\n"
     ]
    }
   ],
   "source": [
    "# Define model save path\n",
    "save_path = './app/models/mulmodel.pt'\n",
    "\n",
    "# Load the trained model with error handling\n",
    "try:\n",
    "    mulmodel.load_state_dict(torch.load(save_path, map_location=device))\n",
    "    print(\"Multiplicative Attention Model loaded successfully.\")\n",
    "except FileNotFoundError:\n",
    "    print(f\"Error: Model file not found at {save_path}\")\n",
    "except Exception as e:\n",
    "    print(f\"Error loading model: {e}\")\n"
   ]
  },
  {
   "cell_type": "code",
   "execution_count": 61,
   "metadata": {},
   "outputs": [
    {
     "name": "stdout",
     "output_type": "stream",
     "text": [
      "Predicted Sentence: ကျွန်တော် မနက် တိုင်း ကော်ဖီ ဆိုင် မှာ တင်းနစ် ရိုက် တယ် ။ <eos>\n"
     ]
    }
   ],
   "source": [
    "# Example usage of greedy decoding with multiplicative attention model\n",
    "mul_src_sentence = \"I go to eat rice\"\n",
    "\n",
    "try:\n",
    "    # Perform greedy decoding\n",
    "    mul_output_sentence, mul_attentions = greedy_decode(mulmodel, mul_src_sentence, max_len=50, device=device)\n",
    "\n",
    "    # Print the generated sentence\n",
    "    print(\"Predicted Sentence:\", ' '.join(mul_output_sentence))\n",
    "except Exception as e:\n",
    "    print(f\"Error during decoding: {e}\")\n"
   ]
  },
  {
   "cell_type": "markdown",
   "metadata": {},
   "source": [
    "## Additive inference"
   ]
  },
  {
   "cell_type": "code",
   "execution_count": 62,
   "metadata": {},
   "outputs": [
    {
     "name": "stdout",
     "output_type": "stream",
     "text": [
      "Additive Attention Model loaded successfully.\n"
     ]
    }
   ],
   "source": [
    "import torch\n",
    "\n",
    "# Define model save path\n",
    "save_path = './app/models/addmodel.pt'\n",
    "\n",
    "# Load the trained model with error handling\n",
    "try:\n",
    "    addmodel.load_state_dict(torch.load(save_path, map_location=device))\n",
    "    print(\"Additive Attention Model loaded successfully.\")\n",
    "except FileNotFoundError:\n",
    "    print(f\"Error: Model file not found at {save_path}\")\n",
    "except Exception as e:\n",
    "    print(f\"Error loading model: {e}\")\n"
   ]
  },
  {
   "cell_type": "code",
   "execution_count": 64,
   "metadata": {},
   "outputs": [
    {
     "name": "stdout",
     "output_type": "stream",
     "text": [
      "Predicted Sentence: ကျွန်တော် ပေါင်မုန့် စား တယ် ။ <eos>\n"
     ]
    }
   ],
   "source": [
    "# Example usage of greedy decoding with additive attention model\n",
    "add_src_sentence = \"I eat bread\"\n",
    "\n",
    "try:\n",
    "    # Perform greedy decoding\n",
    "    add_output_sentence, add_attentions = greedy_decode(addmodel, add_src_sentence, max_len=50, device=device)\n",
    "\n",
    "    # Print the generated sentence\n",
    "    print(\"Predicted Sentence:\", ' '.join(add_output_sentence))\n",
    "except Exception as e:\n",
    "    print(f\"Error during decoding: {e}\")\n"
   ]
  },
  {
   "cell_type": "markdown",
   "metadata": {},
   "source": [
    "## Attention map"
   ]
  },
  {
   "cell_type": "markdown",
   "metadata": {},
   "source": [
    "## Random sample for attention map"
   ]
  },
  {
   "cell_type": "code",
   "execution_count": 66,
   "metadata": {},
   "outputs": [
    {
     "name": "stdout",
     "output_type": "stream",
     "text": [
      "Source: What kind of food is it?\n",
      "Target: အဲဒါ ဘယ်လိုအစားအစာမျိုးလဲ။\n"
     ]
    }
   ],
   "source": [
    "# Extract source and target text from the first training sample\n",
    "try:\n",
    "    src_text = corpus['train'][0]['eng']  # Source sentence in English\n",
    "    trg_text = corpus['train'][0]['myn']  # Target sentence in Myanmar\n",
    "    print(f\"Source: {src_text}\\nTarget: {trg_text}\")\n",
    "except (KeyError, IndexError) as e:\n",
    "    print(f\"Error extracting text: {e}\")\n"
   ]
  },
  {
   "cell_type": "code",
   "execution_count": 67,
   "metadata": {},
   "outputs": [
    {
     "name": "stdout",
     "output_type": "stream",
     "text": [
      "Source Tensor: torch.Size([1, 9])\n",
      "Target Tensor: torch.Size([1, 8])\n"
     ]
    }
   ],
   "source": [
    "# Convert source and target text into tensors\n",
    "try:\n",
    "    source = text_transform[SRC_LANGUAGE](src_text).to(device).unsqueeze(0)  # Tokenize & convert to tensor\n",
    "    target = text_transform[TRG_LANGUAGE](trg_text).to(device).unsqueeze(0)  # Tokenize & convert to tensor\n",
    "\n",
    "    print(f\"Source Tensor: {source.shape}\")  # Debugging\n",
    "    print(f\"Target Tensor: {target.shape}\")\n",
    "except Exception as e:\n",
    "    print(f\"Error during text transformation: {e}\")\n"
   ]
  },
  {
   "cell_type": "code",
   "execution_count": null,
   "metadata": {},
   "outputs": [
    {
     "name": "stdout",
     "output_type": "stream",
     "text": [
      "GenModel inference completed successfully.\n",
      "MulModel inference completed successfully.\n",
      "AddModel inference completed successfully.\n"
     ]
    }
   ],
   "source": [
    "# Perform inference with no gradient computation\n",
    "def generate_output(model, source, target, model_name=\"Model\"):\n",
    "    try:\n",
    "        with torch.no_grad():\n",
    "            output, attentions = model(source, target)\n",
    "        print(f\"{model_name} inference completed successfully.\")\n",
    "        return output, attentions\n",
    "    except Exception as e:\n",
    "        print(f\"Error during {model_name} inference: {e}\")\n",
    "        return None, None\n",
    "\n",
    "# Run inference on all models\n",
    "gen_output, gen_attentions = generate_output(genmodel, source, target, model_name=\"GenModel\")\n",
    "mul_output, mul_attentions = generate_output(mulmodel, source, target, model_name=\"MulModel\")\n",
    "add_output, add_attentions = generate_output(addmodel, source, target, model_name=\"AddModel\")\n"
   ]
  },
  {
   "cell_type": "code",
   "execution_count": 69,
   "metadata": {},
   "outputs": [],
   "source": [
    "def get_output(output):\n",
    "    try:\n",
    "        output = output.squeeze(0)  # Remove batch dimension -> [trg_len, vocab_size]\n",
    "        output_max = output[1:].argmax(dim=1)  # Get highest probability token for each timestep\n",
    "\n",
    "        # Convert token indices to words\n",
    "        trg_tokens = ['<sos>'] + [mapping[TRG_LANGUAGE][token.item()] for token in output_max]\n",
    "        \n",
    "        return trg_tokens\n",
    "    except Exception as e:\n",
    "        print(f\"Error during output decoding: {e}\")\n",
    "        return []\n"
   ]
  },
  {
   "cell_type": "code",
   "execution_count": 70,
   "metadata": {},
   "outputs": [
    {
     "name": "stdout",
     "output_type": "stream",
     "text": [
      "Tokenized Source: ['<sos>', 'What', 'kind', 'of', 'food', 'is', 'it', '?', '<eos>']\n"
     ]
    }
   ],
   "source": [
    "def tokenize_source(src_text):\n",
    "    try:\n",
    "        src_tokens = ['<sos>'] + token_transform[SRC_LANGUAGE](src_text) + ['<eos>']\n",
    "        return src_tokens\n",
    "    except Exception as e:\n",
    "        print(f\"Error during source tokenization: {e}\")\n",
    "        return []\n",
    "    \n",
    "# Example usage\n",
    "src_tokens = tokenize_source(src_text)\n",
    "print(\"Tokenized Source:\", src_tokens)\n"
   ]
  },
  {
   "cell_type": "markdown",
   "metadata": {},
   "source": [
    "### Attention function"
   ]
  },
  {
   "cell_type": "code",
   "execution_count": 71,
   "metadata": {},
   "outputs": [],
   "source": [
    "import warnings\n",
    "\n",
    "def suppress_warnings(category=UserWarning):\n",
    "    warnings.filterwarnings(\"ignore\", category=category)\n",
    "    \n",
    "# Suppress UserWarnings (default)\n",
    "suppress_warnings()\n"
   ]
  },
  {
   "cell_type": "code",
   "execution_count": 72,
   "metadata": {},
   "outputs": [],
   "source": [
    "import matplotlib.pyplot as plt\n",
    "import matplotlib.ticker as ticker\n",
    "import numpy as np\n",
    "\n",
    "def display_attention(sentence, translation, attention):\n",
    "    try:\n",
    "        fig, ax = plt.subplots(figsize=(10, 10))\n",
    "\n",
    "        # Extract first attention head\n",
    "        attention = attention[0, 0, :, :].squeeze(1).cpu().detach().numpy()\n",
    "\n",
    "        # Display attention heatmap\n",
    "        cax = ax.matshow(attention, cmap='bone')\n",
    "\n",
    "        # Set tick parameters\n",
    "        ax.tick_params(labelsize=10)\n",
    "\n",
    "        # Set axis labels with tokens\n",
    "        ax.set_xticks(range(len(sentence)))\n",
    "        ax.set_xticklabels(sentence, rotation=45, ha=\"left\")\n",
    "\n",
    "        ax.set_yticks(range(len(translation)))\n",
    "        ax.set_yticklabels(translation, fontname='Myanmar Text')\n",
    "\n",
    "        # Adjust tick spacing\n",
    "        ax.xaxis.set_major_locator(ticker.MultipleLocator(1))\n",
    "        ax.yaxis.set_major_locator(ticker.MultipleLocator(1))\n",
    "\n",
    "        # Show the plot\n",
    "        plt.colorbar(cax)\n",
    "        plt.show()\n",
    "        plt.close()\n",
    "\n",
    "    except Exception as e:\n",
    "        print(f\"Error displaying attention: {e}\")\n"
   ]
  },
  {
   "cell_type": "code",
   "execution_count": 73,
   "metadata": {},
   "outputs": [
    {
     "data": {
      "image/png": "[encoded data removed]",
      "text/plain": [
       "<Figure size 1000x1000 with 2 Axes>"
      ]
     },
     "metadata": {},
     "output_type": "display_data"
    },
    {
     "name": "stdout",
     "output_type": "stream",
     "text": [
      "Generated Translation: <sos> ဒီ လုပ် လဲ လဲ ။ <eos> လဲ\n"
     ]
    }
   ],
   "source": [
    "try:\n",
    "    # Extract predicted target tokens\n",
    "    trg_tokens = get_output(gen_output)\n",
    "\n",
    "    # Display attention visualization\n",
    "    display_attention(src_tokens, trg_tokens, gen_attentions)\n",
    "\n",
    "    # Print the generated translation\n",
    "    print(\"Generated Translation:\", ' '.join(trg_tokens))\n",
    "except Exception as e:\n",
    "    print(f\"Error during translation display: {e}\")\n"
   ]
  },
  {
   "cell_type": "code",
   "execution_count": 74,
   "metadata": {},
   "outputs": [
    {
     "data": {
      "image/png": "[encoded data removed]",
      "text/plain": [
       "<Figure size 1000x1000 with 2 Axes>"
      ]
     },
     "metadata": {},
     "output_type": "display_data"
    },
    {
     "name": "stdout",
     "output_type": "stream",
     "text": [
      "Generated Translation: <sos> ဘယ်လို အစားအစာ မျိုး လဲ ။ <eos> လဲ\n"
     ]
    }
   ],
   "source": [
    "try:\n",
    "    # Extract predicted target tokens\n",
    "    trg_tokens = get_output(mul_output)\n",
    "\n",
    "    # Display attention visualization\n",
    "    display_attention(src_tokens, trg_tokens, mul_attentions)\n",
    "\n",
    "    # Print the generated translation\n",
    "    print(\"Generated Translation:\", ' '.join(trg_tokens))\n",
    "except Exception as e:\n",
    "    print(f\"Error during translation display: {e}\")\n"
   ]
  },
  {
   "cell_type": "code",
   "execution_count": 77,
   "metadata": {},
   "outputs": [
    {
     "data": {
      "image/png": "[encoded data removed]",
      "text/plain": [
       "<Figure size 1000x1000 with 2 Axes>"
      ]
     },
     "metadata": {},
     "output_type": "display_data"
    },
    {
     "name": "stdout",
     "output_type": "stream",
     "text": [
      "Generated Translation: <sos> နေ့ က ကျွန်တော် သောက် သောက် ခဲ့ တယ် ။ <eos> ခဲ့\n"
     ]
    }
   ],
   "source": [
    "try:\n",
    "    # Extract predicted target tokens\n",
    "    trg_tokens = get_output(add_output)\n",
    "\n",
    "    # Display attention visualization\n",
    "    display_attention(src_tokens, trg_tokens, add_attentions)\n",
    "\n",
    "    # Print the generated translation\n",
    "    print(\"Generated Translation:\", ' '.join(trg_tokens))\n",
    "except Exception as e:\n",
    "    print(f\"Error during translation display: {e}\")\n"
   ]
  },
  {
   "cell_type": "markdown",
   "metadata": {},
   "source": []
  },
  {
   "cell_type": "markdown",
   "metadata": {},
   "source": [
    "## BLEU score"
   ]
  },
  {
   "cell_type": "code",
   "execution_count": 79,
   "metadata": {},
   "outputs": [
    {
     "name": "stdout",
     "output_type": "stream",
     "text": [
      "Source: I eat while watching TV.\n",
      "Reference Translation: တီဗွီ ကြည့် ရင်း ထမင်း စား တယ် ။\n",
      "Generated Translation: ကျွန်တော် နေ့ တိုင်း ထမင်း စား တယ် ။ <eos>\n",
      "BLEU Score: 0.4629\n"
     ]
    }
   ],
   "source": [
    "from nltk.translate.bleu_score import sentence_bleu, SmoothingFunction\n",
    "\n",
    "# Select a sentence from the training corpus\n",
    "src_text = corpus['train'][56]['eng']\n",
    "trg_text = corpus['train'][56]['myn']\n",
    "\n",
    "# Tokenize the reference translation\n",
    "trg_token = token_transform[TRG_LANGUAGE](trg_text)\n",
    "\n",
    "# Generate model output\n",
    "gen_output, _ = greedy_decode(genmodel, src_text, max_len=50, device=device)\n",
    "\n",
    "# Compute BLEU score with smoothing\n",
    "smoothing = SmoothingFunction().method1  # Handles short sentences better\n",
    "bleu_score = sentence_bleu([trg_token], gen_output, weights=(0.5, 0.5, 0, 0), smoothing_function=smoothing)\n",
    "\n",
    "# Display results\n",
    "print(f\"Source: {src_text}\")\n",
    "print(f\"Reference Translation: {' '.join(trg_token)}\")\n",
    "print(f\"Generated Translation: {' '.join(gen_output)}\")\n",
    "print(f\"BLEU Score: {bleu_score:.4f}\")\n"
   ]
  },
  {
   "cell_type": "code",
   "execution_count": null,
   "metadata": {},
   "outputs": [],
   "source": []
  }
 ],
 "metadata": {
  "kernelspec": {
   "display_name": ".venv",
   "language": "python",
   "name": "python3"
  },
  "language_info": {
   "codemirror_mode": {
    "name": "ipython",
    "version": 3
   },
   "file_extension": ".py",
   "mimetype": "text/x-python",
   "name": "python",
   "nbconvert_exporter": "python",
   "pygments_lexer": "ipython3",
   "version": "3.11.9"
  }
 },
 "nbformat": 4,
 "nbformat_minor": 2
}
