{
 "cells": [
  {
   "cell_type": "markdown",
   "metadata": {},
   "source": [
    "# 0. Importing Libraries"
   ]
  },
  {
   "cell_type": "code",
   "execution_count": 1,
   "metadata": {},
   "outputs": [
    {
     "name": "stdout",
     "output_type": "stream",
     "text": [
      "Requirement already satisfied: numpy==1.26.4 in c:\\users\\jue\\desktop\\nlp\\a3\\.venv\\lib\\site-packages (1.26.4)\n",
      "Note: you may need to restart the kernel to use updated packages.\n"
     ]
    }
   ],
   "source": [
    "pip install numpy==1.26.4"
   ]
  },
  {
   "cell_type": "code",
   "execution_count": 3,
   "metadata": {},
   "outputs": [
    {
     "name": "stdout",
     "output_type": "stream",
     "text": [
      "1.26.4\n"
     ]
    }
   ],
   "source": [
    "import numpy\n",
    "print(numpy.__version__)"
   ]
  },
  {
   "cell_type": "code",
   "execution_count": 4,
   "metadata": {},
   "outputs": [],
   "source": [
    "import spacy"
   ]
  },
  {
   "cell_type": "code",
   "execution_count": 5,
   "metadata": {},
   "outputs": [
    {
     "name": "stdout",
     "output_type": "stream",
     "text": [
      "3.5.0\n"
     ]
    }
   ],
   "source": [
    "print(spacy.__version__)"
   ]
  },
  {
   "cell_type": "code",
   "execution_count": 1,
   "metadata": {},
   "outputs": [
    {
     "name": "stderr",
     "output_type": "stream",
     "text": [
      "c:\\Users\\Jue\\Desktop\\NLP\\A3\\.venv\\Lib\\site-packages\\tqdm\\auto.py:21: TqdmWarning: IProgress not found. Please update jupyter and ipywidgets. See https://ipywidgets.readthedocs.io/en/stable/user_install.html\n",
      "  from .autonotebook import tqdm as notebook_tqdm\n"
     ]
    },
    {
     "name": "stdout",
     "output_type": "stream",
     "text": [
      "cuda\n"
     ]
    }
   ],
   "source": [
    "import torch, torchdata, torchtext\n",
    "from torch import nn\n",
    "import torch.nn.functional as F\n",
    "\n",
    "import random, math, time\n",
    "import datasets\n",
    "import matplotlib.pyplot as plt\n",
    "import torch.optim as optim\n",
    "\n",
    "# Set device as GPU if available, else set to CPU\n",
    "device = torch.device('cuda' if torch.cuda.is_available() else 'cpu')\n",
    "# device = 'cpu'\n",
    "print(device)\n",
    "\n",
    "#make our work comparable if restarted the kernel\n",
    "SEED = 1234\n",
    "torch.manual_seed(SEED)\n",
    "torch.backends.cudnn.deterministic = True"
   ]
  },
  {
   "cell_type": "markdown",
   "metadata": {},
   "source": [
    "# 1. ETL: Loading dataset"
   ]
  },
  {
   "cell_type": "code",
   "execution_count": 2,
   "metadata": {},
   "outputs": [],
   "source": [
    "import datasets\n",
    "\n",
    "# Processed TALPCo dataset\n",
    "corpus = datasets.load_dataset('minnbanya/en-my-nlp-a3')"
   ]
  },
  {
   "cell_type": "code",
   "execution_count": 3,
   "metadata": {},
   "outputs": [
    {
     "data": {
      "text/plain": [
       "DatasetDict({\n",
       "    train: Dataset({\n",
       "        features: ['en', 'my'],\n",
       "        num_rows: 1093\n",
       "    })\n",
       "    validation: Dataset({\n",
       "        features: ['en', 'my'],\n",
       "        num_rows: 137\n",
       "    })\n",
       "    test: Dataset({\n",
       "        features: ['en', 'my'],\n",
       "        num_rows: 137\n",
       "    })\n",
       "})"
      ]
     },
     "execution_count": 3,
     "metadata": {},
     "output_type": "execute_result"
    }
   ],
   "source": [
    "corpus"
   ]
  },
  {
   "cell_type": "markdown",
   "metadata": {},
   "source": [
    "## Extract language pair"
   ]
  },
  {
   "cell_type": "code",
   "execution_count": 4,
   "metadata": {},
   "outputs": [],
   "source": [
    "SRC_LANGUAGE = 'en' # English\n",
    "TRG_LANGUAGE = 'my' # Myanmar"
   ]
  },
  {
   "cell_type": "code",
   "execution_count": 5,
   "metadata": {},
   "outputs": [
    {
     "data": {
      "text/plain": [
       "'I drank a little bit of alcohol yesterday'"
      ]
     },
     "execution_count": 5,
     "metadata": {},
     "output_type": "execute_result"
    }
   ],
   "source": [
    "corpus['train'][0][SRC_LANGUAGE]"
   ]
  },
  {
   "cell_type": "code",
   "execution_count": 6,
   "metadata": {},
   "outputs": [
    {
     "data": {
      "text/plain": [
       "'မနေ့က အရက် နည်းနည်း သောက်ခဲ့တယ်။'"
      ]
     },
     "execution_count": 6,
     "metadata": {},
     "output_type": "execute_result"
    }
   ],
   "source": [
    "corpus['train'][0][TRG_LANGUAGE]"
   ]
  },
  {
   "cell_type": "markdown",
   "metadata": {},
   "source": [
    "# 2. Preprocessing"
   ]
  },
  {
   "cell_type": "markdown",
   "metadata": {},
   "source": [
    "## Tokenization, Numericalization"
   ]
  },
  {
   "cell_type": "code",
   "execution_count": 7,
   "metadata": {},
   "outputs": [],
   "source": [
    "# Place-holders\n",
    "token_transform = {}\n",
    "vocab_transform = {}"
   ]
  },
  {
   "cell_type": "markdown",
   "metadata": {},
   "source": [
    "## Myanmar segmentation tool (myWord)"
   ]
  },
  {
   "cell_type": "code",
   "execution_count": 8,
   "metadata": {},
   "outputs": [],
   "source": [
    "import math\n",
    "import functools\n",
    "import sys\n",
    "import pickle\n",
    "\n",
    "sys.setrecursionlimit(10**6)\n",
    "\n",
    "# Myanmar syllable combination dictionaries (pretrained)\n",
    "UNI_DICT_BIN = './app/data/unigram-word.bin'\n",
    "BI_DICT_BIN = './app/data/bigram-word.bin'                \n",
    "\n",
    "def read_dict(file_path):\n",
    "    \"\"\"Reads a binary dictionary file and returns its contents.\"\"\"\n",
    "    try:\n",
    "        with open(file_path, 'rb') as file:\n",
    "            return pickle.load(file)\n",
    "    except FileNotFoundError:\n",
    "        print(f\"Dictionary file {file_path} not found!\")\n",
    "        return {}\n",
    "\n",
    "class ProbDist(dict):\n",
    "    \"\"\"Probability distribution estimated from unigram/bigram data.\"\"\"\n",
    "    \n",
    "    def __init__(self, datafile=None, unigram=True, total_count=102490):\n",
    "        super().__init__()\n",
    "        data = read_dict(datafile)\n",
    "        self.update(data)\n",
    "        self.total_count = total_count\n",
    "\n",
    "        self.unknown_prob = (\n",
    "            lambda word, N: 10 / (N * 10**len(word)) if unigram else lambda _, N: 1 / N\n",
    "        )\n",
    "\n",
    "    def __call__(self, key):\n",
    "        \"\"\"Returns the probability of a word, falling back on unknown probability estimation.\"\"\"\n",
    "        return self.get(key, 0) / self.total_count if key in self else self.unknown_prob(key, self.total_count)\n",
    "\n",
    "# Load probability distributions\n",
    "P_UNIGRAM = ProbDist(UNI_DICT_BIN, unigram=True)\n",
    "P_BIGRAM = ProbDist(BI_DICT_BIN, unigram=False)\n",
    "\n",
    "def conditional_prob(current_word, previous_word):\n",
    "    \"\"\"Computes conditional probability P(current_word | previous_word).\"\"\"\n",
    "    bigram = f\"{previous_word} {current_word}\"\n",
    "    return P_BIGRAM[bigram] / P_UNIGRAM[previous_word] if bigram in P_BIGRAM else P_UNIGRAM(current_word)\n",
    "\n",
    "@functools.lru_cache(maxsize=2**10)\n",
    "def viterbi(text, previous_word=\"<S>\", max_length=20):\n",
    "    \"\"\"Viterbi algorithm for word segmentation based on maximum probability.\"\"\"\n",
    "    if not text:\n",
    "        return 0.0, []\n",
    "\n",
    "    max_length = min(len(text), max_length)\n",
    "    splits = [(text[:i + 1], text[i + 1:]) for i in range(max_length)]\n",
    "\n",
    "    candidates = [\n",
    "        (\n",
    "            math.log10(conditional_prob(first_word, previous_word)) + remain_prob,\n",
    "            [first_word] + remain_words\n",
    "        )\n",
    "        for first_word, remaining_text in splits\n",
    "        for remain_prob, remain_words in [viterbi(remaining_text, first_word)]\n",
    "    ]\n",
    "\n",
    "    return max(candidates, key=lambda x: x[0])\n"
   ]
  },
  {
   "cell_type": "code",
   "execution_count": 13,
   "metadata": {},
   "outputs": [],
   "source": [
    "import math\n",
    "import functools\n",
    "import sys\n",
    "import pickle\n",
    "\n",
    "sys.setrecursionlimit(10**6)\n",
    "\n",
    "# Myanmar syllable combination dictionaries (pretrained)\n",
    "uni_dict_bin = './app/data/unigram-word.bin'\n",
    "bi_dict_bin = './app/data/bigram-word.bin'                \n",
    "\n",
    "# Read binary files\n",
    "def read_dict (fileDICT):\n",
    "    try:\n",
    "        with open(fileDICT, 'rb') as input_file:\n",
    "            dictionary = pickle.load(input_file)\n",
    "            input_file.close()\n",
    "    except FileNotFoundError:\n",
    "        print('Dictionary file', fileDICT, ' not found!')\n",
    "    return dictionary\n",
    "\n",
    "class ProbDist(dict):\n",
    "    ### Probability distribution estimated from unigram/bigram data\n",
    "    def __init__(self, datafile=None, unigram=True, N=102490):\n",
    "        data = read_dict(datafile)\n",
    "        for k, c in data.items():\n",
    "            self[k] = self.get(k, 0) + c\n",
    "\n",
    "        if unigram:\n",
    "            self.unknownprob = lambda k, N: 10/(N*10**len(k))    # avoid unknown long word\n",
    "        else:\n",
    "            self.unknownprob = lambda k, N: 1/N\n",
    "\n",
    "        self.N = N\n",
    "\n",
    "    def __call__(self, key):\n",
    "        if key in self:\n",
    "            return self[key]/self.N\n",
    "        else:\n",
    "            return self.unknownprob(key, self.N)\n",
    "        \n",
    "P_unigram = ProbDist(uni_dict_bin, True)\n",
    "P_bigram = ProbDist(bi_dict_bin, False)\n",
    "\n",
    "def conditionalProb(word_curr, word_prev):\n",
    "    ### Conditional probability of current word given the previous word.\n",
    "    try:\n",
    "        return P_bigram[word_prev + ' ' + word_curr]/P_unigram[word_prev]\n",
    "    except KeyError:\n",
    "        return P_unigram(word_curr)\n",
    "\n",
    "@functools.lru_cache(maxsize=2**10)\n",
    "#maxlen=20\n",
    "def viterbi(text, prev='<S>', maxlen=20):\n",
    "    if not text:\n",
    "        return 0.0, []\n",
    "    \n",
    "    textlen = min(len(text), maxlen)\n",
    "    splits = [(text[:i + 1], text[i + 1:]) for i in range(textlen)]\n",
    "\n",
    "    candidates = []\n",
    "\n",
    "    for first_word, remain_word in splits:\n",
    "\n",
    "        first_prob = math.log10(conditionalProb(first_word, prev))\n",
    "\n",
    "        remain_prob, remain_word = viterbi(remain_word, first_word)\n",
    "\n",
    "        candidates.append((first_prob + remain_prob, [first_word] + remain_word))\n",
    "\n",
    "    return max(candidates)"
   ]
  },
  {
   "cell_type": "code",
   "execution_count": 9,
   "metadata": {},
   "outputs": [],
   "source": [
    "def my_tokenizer(text):\n",
    "    \"\"\"Myanmar tokenizer using Viterbi segmentation.\"\"\"\n",
    "    if not text:\n",
    "        return []  # Handle None or empty input gracefully\n",
    "\n",
    "    word_delimiter = '|'  # Define the word delimiter\n",
    "    processed_text = text.replace(\" \", \"\").strip()  # Remove spaces before processing\n",
    "\n",
    "    # Perform Viterbi segmentation\n",
    "    _, segmented_words = viterbi(processed_text)\n",
    "\n",
    "    # Join words with delimiter, clean up formatting, and split back into a list\n",
    "    cleaned_text = word_delimiter.join(segmented_words).strip(word_delimiter)\n",
    "    return cleaned_text.split(word_delimiter)\n"
   ]
  },
  {
   "cell_type": "code",
   "execution_count": 14,
   "metadata": {},
   "outputs": [],
   "source": [
    "def my_tokenizer(text): # Myanmar tokenizer\n",
    "    if text is None: # Handle null value as empty string\n",
    "        return []\n",
    "    wordDelimiter= '|' # assign local variable delimiter\n",
    "\n",
    "    input = text[:]\n",
    "    listString = viterbi(input.replace(\" \", \"\").strip()) # remove space between words and pass to viterbi()\n",
    "    wordStr = wordDelimiter.join(listString[1])\n",
    "    wordClean1=wordStr.strip()\n",
    "    wordClean2=wordClean1.strip(wordDelimiter)    \n",
    "    wordClean2 = wordClean2.split('|')                \n",
    "    return wordClean2"
   ]
  },
  {
   "cell_type": "markdown",
   "metadata": {},
   "source": [
    "## Tokenizers"
   ]
  },
  {
   "cell_type": "code",
   "execution_count": 10,
   "metadata": {},
   "outputs": [
    {
     "name": "stdout",
     "output_type": "stream",
     "text": [
      "Torch Version: 2.2.0+cu118\n",
      "TorchText Version: 0.17.0+cpu\n",
      "CUDA Available: True\n",
      "CUDA Version: 11.8\n"
     ]
    }
   ],
   "source": [
    "print(\"Torch Version:\", torch.__version__)\n",
    "print(\"TorchText Version:\", torchtext.__version__)\n",
    "print(\"CUDA Available:\", torch.cuda.is_available())\n",
    "print(\"CUDA Version:\", torch.version.cuda)"
   ]
  },
  {
   "cell_type": "code",
   "execution_count": 11,
   "metadata": {},
   "outputs": [],
   "source": [
    "from torchtext.data.utils import get_tokenizer\n",
    "token_transform[SRC_LANGUAGE] = get_tokenizer('spacy', language='en_core_web_sm')\n",
    "token_transform[TRG_LANGUAGE] = my_tokenizer"
   ]
  },
  {
   "cell_type": "markdown",
   "metadata": {},
   "source": [
    "## Special token indices"
   ]
  },
  {
   "cell_type": "code",
   "execution_count": 12,
   "metadata": {},
   "outputs": [],
   "source": [
    "# Define special symbols and indices\n",
    "UNK_IDX, PAD_IDX, SOS_IDX, EOS_IDX = 0, 1, 2, 3\n",
    "# Make sure the tokens are in order of their indices to properly insert them in vocab\n",
    "special_symbols = ['<unk>', '<pad>', '<sos>', '<eos>']"
   ]
  },
  {
   "cell_type": "markdown",
   "metadata": {},
   "source": [
    "## Build vocab"
   ]
  },
  {
   "cell_type": "code",
   "execution_count": 13,
   "metadata": {},
   "outputs": [],
   "source": [
    "def yield_tokens(data, language):\n",
    "    \"\"\"Yields tokenized sequences from input data.\n",
    "\n",
    "    Args:\n",
    "        data (list or None): The dataset containing samples, where each sample can be a list or a dictionary.\n",
    "        language (str): The target language for tokenization.\n",
    "\n",
    "    Yields:\n",
    "        list: Tokenized words for each sample.\n",
    "    \"\"\"\n",
    "    if not data:  # Handle None or empty data gracefully\n",
    "        return\n",
    "\n",
    "    language_index = {SRC_LANGUAGE: 0, TRG_LANGUAGE: 1}\n",
    "\n",
    "    for data_sample in data:\n",
    "        if isinstance(data_sample, list):\n",
    "            yield token_transform[language](data_sample[language_index[language]])\n",
    "        elif isinstance(data_sample, dict):\n",
    "            yield token_transform[language](data_sample.get(language, \"\"))\n"
   ]
  },
  {
   "cell_type": "code",
   "execution_count": 19,
   "metadata": {},
   "outputs": [],
   "source": [
    "# helper function to yield list of tokens\n",
    "# here data can be `train` or `val` or `test`\n",
    "def yield_tokens(data, language):\n",
    "    if data is None: # handle null value\n",
    "        return []\n",
    "    language_index = {SRC_LANGUAGE: 0, TRG_LANGUAGE: 1}\n",
    "\n",
    "    for data_sample in data:\n",
    "        if isinstance(data_sample, list): # handle list\n",
    "            yield token_transform[language](data_sample[language_index[language]])\n",
    "        elif isinstance(data_sample, dict):\n",
    "            yield token_transform[language](data_sample[language])"
   ]
  },
  {
   "cell_type": "code",
   "execution_count": 14,
   "metadata": {},
   "outputs": [],
   "source": [
    "from torchtext.vocab import build_vocab_from_iterator\n",
    "\n",
    "# Build vocabularies for source and target languages\n",
    "for lang in [SRC_LANGUAGE, TRG_LANGUAGE]:\n",
    "    vocab_transform[lang] = build_vocab_from_iterator(\n",
    "        yield_tokens(corpus['train'], lang), \n",
    "        min_freq=2,  # Tokens appearing less than twice will be treated as UNK\n",
    "        specials=special_symbols,\n",
    "        special_first=True  # Insert special tokens at the beginning\n",
    "    )\n",
    "\n",
    "# Set the default index for unknown tokens (UNK)\n",
    "for lang in [SRC_LANGUAGE, TRG_LANGUAGE]:\n",
    "    vocab_transform[lang].set_default_index(UNK_IDX)\n"
   ]
  },
  {
   "cell_type": "code",
   "execution_count": 20,
   "metadata": {},
   "outputs": [],
   "source": [
    "from torchtext.vocab import build_vocab_from_iterator\n",
    "\n",
    "for ln in [SRC_LANGUAGE, TRG_LANGUAGE]:\n",
    "    # Create torchtext's Vocab object \n",
    "    vocab_transform[ln] = build_vocab_from_iterator(yield_tokens(corpus['train'], ln), \n",
    "                                                    min_freq=2,   #if not, everything will be treated as UNK\n",
    "                                                    specials=special_symbols,\n",
    "                                                    special_first=True) #indicates whether to insert symbols at the beginning or at the end                                            \n",
    "# Set UNK_IDX as the default index. This index is returned when the token is not found. \n",
    "# If not set, it throws RuntimeError when the queried token is not found in the Vocabulary. \n",
    "for ln in [SRC_LANGUAGE, TRG_LANGUAGE]:\n",
    "    vocab_transform[ln].set_default_index(UNK_IDX)"
   ]
  },
  {
   "cell_type": "code",
   "execution_count": 15,
   "metadata": {},
   "outputs": [],
   "source": [
    "import pickle\n",
    "\n",
    "pickle.dump(vocab_transform, open('./app/data/vocab.pkl', 'wb'))"
   ]
  },
  {
   "cell_type": "code",
   "execution_count": 16,
   "metadata": {},
   "outputs": [],
   "source": [
    "vocab_transform = pickle.load(open('./app/data/vocab.pkl', 'rb'))"
   ]
  },
  {
   "cell_type": "markdown",
   "metadata": {},
   "source": [
    "## Batching"
   ]
  },
  {
   "cell_type": "code",
   "execution_count": 17,
   "metadata": {},
   "outputs": [],
   "source": [
    "import torch\n",
    "from torch.nn.utils.rnn import pad_sequence\n",
    "from torch.utils.data import DataLoader\n",
    "\n",
    "BATCH_SIZE = 16  # GPU memory limitation\n",
    "\n",
    "# Helper function to apply sequential transformations\n",
    "def sequential_transforms(*transforms):\n",
    "    \"\"\"Applies a sequence of transformations to the input text.\"\"\"\n",
    "    def func(txt_input):\n",
    "        if not txt_input:  # Handle None or empty input\n",
    "            return []\n",
    "        for transform in transforms:\n",
    "            txt_input = transform(txt_input)\n",
    "        return txt_input\n",
    "    return func\n",
    "\n",
    "# Function to add BOS/EOS and convert to tensor\n",
    "def tensor_transform(token_ids):\n",
    "    \"\"\"Adds BOS (start-of-sequence) and EOS (end-of-sequence) tokens and converts to tensor.\"\"\"\n",
    "    return torch.cat((\n",
    "        torch.tensor([SOS_IDX], dtype=torch.int64),\n",
    "        torch.tensor(token_ids, dtype=torch.int64),\n",
    "        torch.tensor([EOS_IDX], dtype=torch.int64)\n",
    "    ))\n",
    "\n",
    "# Define text transformations for source and target languages\n",
    "text_transform = {\n",
    "    lang: sequential_transforms(\n",
    "        token_transform[lang],  # Tokenization\n",
    "        vocab_transform[lang],  # Numericalization\n",
    "        tensor_transform        # Add BOS/EOS and create tensor\n",
    "    )\n",
    "    for lang in [SRC_LANGUAGE, TRG_LANGUAGE]\n",
    "}\n",
    "\n",
    "# Collate function for batching data\n",
    "def collate_batch(batch):\n",
    "    \"\"\"Collates data samples into padded batches with lengths.\"\"\"\n",
    "    src_batch, src_len_batch, trg_batch = [], [], []\n",
    "\n",
    "    for lang_data in batch:\n",
    "        for lang, tokens in lang_data.items():\n",
    "            # Convert tokens to tensor, handling None or empty input safely\n",
    "            processed_text = text_transform[lang](tokens) if tokens else torch.empty(0, dtype=torch.int64)\n",
    "            \n",
    "            if lang == SRC_LANGUAGE:\n",
    "                src_batch.append(processed_text)\n",
    "                src_len_batch.append(processed_text.size(0))\n",
    "            elif lang == TRG_LANGUAGE:\n",
    "                trg_batch.append(processed_text)\n",
    "\n",
    "    # Pad source and target sequences\n",
    "    src_batch = pad_sequence(src_batch, padding_value=PAD_IDX, batch_first=True) if src_batch else torch.empty(0)\n",
    "    trg_batch = pad_sequence(trg_batch, padding_value=PAD_IDX, batch_first=True) if trg_batch else torch.empty(0)\n",
    "\n",
    "    # Adjust empty sequences to maximum length in the batch\n",
    "    max_len = src_batch.size(1) if src_batch.numel() > 0 else 0\n",
    "    src_len_batch = [length if length > 0 else max_len for length in src_len_batch]\n",
    "\n",
    "    return src_batch, torch.tensor(src_len_batch, dtype=torch.int64), trg_batch\n"
   ]
  },
  {
   "cell_type": "code",
   "execution_count": 23,
   "metadata": {},
   "outputs": [],
   "source": [
    "from torch.nn.utils.rnn import pad_sequence\n",
    "from torch.utils.data import DataLoader\n",
    "\n",
    "BATCH_SIZE = 16 # GPU memory limitation\n",
    "\n",
    "# helper function to club together sequential operations\n",
    "def sequential_transforms(*transforms):\n",
    "    def func(txt_input):\n",
    "        if txt_input is None:\n",
    "            return []\n",
    "        for transform in transforms:\n",
    "            txt_input = transform(txt_input)\n",
    "        return txt_input\n",
    "    return func\n",
    "\n",
    "# function to add BOS/EOS and create tensor for input sequence indices\n",
    "def tensor_transform(token_ids):\n",
    "    return torch.cat((torch.tensor([SOS_IDX]), \n",
    "                      torch.tensor(token_ids), \n",
    "                      torch.tensor([EOS_IDX])))\n",
    "\n",
    "# src and trg language text transforms to convert raw strings into tensors indices\n",
    "text_transform = {}\n",
    "for ln in [SRC_LANGUAGE, TRG_LANGUAGE]:\n",
    "    text_transform[ln] = sequential_transforms(token_transform[ln], #Tokenization\n",
    "                                               vocab_transform[ln], #Numericalization\n",
    "                                               tensor_transform) # Add BOS/EOS and create tensor\n",
    "\n",
    "def collate_batch(batch):\n",
    "    src_batch, src_len_batch, trg_batch = [], [], []\n",
    "\n",
    "    for lang_data in batch:\n",
    "        # Assuming that each language is a key in the dictionary\n",
    "        for lang, tokens in lang_data.items():\n",
    "            # Use an empty tensor as a default value if tokens is None or an empty list\n",
    "            processed_text = text_transform[lang](tokens) if tokens else torch.empty(0, dtype=torch.int64)\n",
    "            \n",
    "            # For source language, append to src_batch and record length\n",
    "            if lang == SRC_LANGUAGE:\n",
    "                src_batch.append(processed_text)\n",
    "                src_len_batch.append(processed_text.size(0))\n",
    "            \n",
    "            # For target language, append to trg_batch\n",
    "            elif lang == TRG_LANGUAGE:\n",
    "                trg_batch.append(processed_text)\n",
    "\n",
    "    # Pad sequences\n",
    "    src_batch = pad_sequence(src_batch, padding_value=PAD_IDX, batch_first = True)\n",
    "\n",
    "    # Set the length of empty sequences to the maximum length\n",
    "    max_len = max(src_batch.size(0), max(src_len_batch))\n",
    "    src_len_batch = [length if length > 0 else max_len for length in src_len_batch]\n",
    "\n",
    "\n",
    "    \n",
    "    trg_batch = pad_sequence(trg_batch, padding_value=PAD_IDX, batch_first = True)\n",
    "\n",
    "    return src_batch, torch.tensor(src_len_batch, dtype=torch.int64), trg_batch"
   ]
  },
  {
   "cell_type": "code",
   "execution_count": 18,
   "metadata": {},
   "outputs": [],
   "source": [
    "from torch.utils.data import DataLoader\n",
    "\n",
    "# Define batch size\n",
    "batch_size = BATCH_SIZE\n",
    "\n",
    "# Create DataLoaders for train, validation, and test sets\n",
    "train_loader = DataLoader(\n",
    "    corpus['train'], batch_size=batch_size, shuffle=True, collate_fn=collate_batch\n",
    ")\n",
    "valid_loader = DataLoader(\n",
    "    corpus['validation'], batch_size=batch_size, shuffle=False, collate_fn=collate_batch\n",
    ")\n",
    "test_loader = DataLoader(\n",
    "    corpus['test'], batch_size=batch_size, shuffle=False, collate_fn=collate_batch\n",
    ")\n",
    "\n",
    "# Alternative (if using a different test corpus)\n",
    "# train_loader = DataLoader(corpus_test, batch_size=batch_size, shuffle=True, collate_fn=collate_batch)\n"
   ]
  },
  {
   "cell_type": "code",
   "execution_count": 24,
   "metadata": {},
   "outputs": [],
   "source": [
    "batch_size = BATCH_SIZE\n",
    "\n",
    "train_loader = DataLoader(corpus['train'], batch_size=batch_size, shuffle=True,  collate_fn=collate_batch)\n",
    "valid_loader = DataLoader(corpus['validation'],   batch_size=batch_size, shuffle=False, collate_fn=collate_batch)\n",
    "test_loader  = DataLoader(corpus['test'],  batch_size=batch_size, shuffle=False, collate_fn=collate_batch)\n",
    "\n",
    "# train_loader = DataLoader(corpus_test, batch_size=batch_size, shuffle=True,  collate_fn=collate_batch)"
   ]
  },
  {
   "cell_type": "code",
   "execution_count": 19,
   "metadata": {},
   "outputs": [],
   "source": [
    "for en, _, my in train_loader:\n",
    "    break"
   ]
  },
  {
   "cell_type": "code",
   "execution_count": 20,
   "metadata": {},
   "outputs": [
    {
     "name": "stdout",
     "output_type": "stream",
     "text": [
      "English shape:  torch.Size([16, 15])\n",
      "Myanmar shape:  torch.Size([16, 17])\n"
     ]
    }
   ],
   "source": [
    "print(\"English shape: \", en.shape)  # (seq len, batch_size)\n",
    "print(\"Myanmar shape: \", my.shape)   # (seq len, batch_size)"
   ]
  },
  {
   "cell_type": "markdown",
   "metadata": {},
   "source": [
    "# 3. Model"
   ]
  },
  {
   "cell_type": "markdown",
   "metadata": {},
   "source": [
    "## Encoder"
   ]
  },
  {
   "cell_type": "markdown",
   "metadata": {},
   "source": [
    "### Encoder layer"
   ]
  },
  {
   "cell_type": "code",
   "execution_count": 27,
   "metadata": {},
   "outputs": [],
   "source": [
    "class EncoderLayer(nn.Module):\n",
    "    def __init__(self, hid_dim, n_heads, pf_dim, dropout, device, mech):\n",
    "        super().__init__()\n",
    "        self.self_attn_layer_norm = nn.LayerNorm(hid_dim)\n",
    "        self.ff_layer_norm        = nn.LayerNorm(hid_dim)\n",
    "        self.self_attention       = MultiHeadAttentionLayer(hid_dim, n_heads, dropout, device, mech)\n",
    "        self.feedforward          = PositionwiseFeedforwardLayer(hid_dim, pf_dim, dropout)\n",
    "        self.dropout              = nn.Dropout(dropout)\n",
    "        \n",
    "    def forward(self, src, src_mask):\n",
    "        #src = [batch size, src len, hid dim]\n",
    "        #src_mask = [batch size, 1, 1, src len]   #if the token is padding, it will be 1, otherwise 0\n",
    "        _src, _ = self.self_attention(src, src, src, src_mask)\n",
    "        src     = self.self_attn_layer_norm(src + self.dropout(_src))\n",
    "        #src: [batch_size, src len, hid dim]\n",
    "        \n",
    "        _src    = self.feedforward(src)\n",
    "        src     = self.ff_layer_norm(src + self.dropout(_src))\n",
    "        #src: [batch_size, src len, hid dim]\n",
    "        \n",
    "        return src"
   ]
  },
  {
   "cell_type": "code",
   "execution_count": 21,
   "metadata": {},
   "outputs": [],
   "source": [
    "import torch\n",
    "import torch.nn as nn\n",
    "\n",
    "class EncoderLayer(nn.Module):\n",
    "    def __init__(self, hid_dim, n_heads, pf_dim, dropout, device, mech):\n",
    "        \"\"\"\n",
    "        Transformer Encoder Layer.\n",
    "\n",
    "        Args:\n",
    "            hid_dim (int): Hidden dimension size.\n",
    "            n_heads (int): Number of attention heads.\n",
    "            pf_dim (int): Position-wise feedforward layer dimension.\n",
    "            dropout (float): Dropout rate.\n",
    "            device (torch.device): Computation device.\n",
    "            mech (str): Mechanism for multi-head attention.\n",
    "        \"\"\"\n",
    "        super().__init__()\n",
    "\n",
    "        # Layer Normalization\n",
    "        self.self_attn_layer_norm = nn.LayerNorm(hid_dim)\n",
    "        self.ff_layer_norm = nn.LayerNorm(hid_dim)\n",
    "\n",
    "        # Attention and Feedforward Layers\n",
    "        self.self_attention = MultiHeadAttentionLayer(hid_dim, n_heads, dropout, device, mech)\n",
    "        self.feedforward = PositionwiseFeedforwardLayer(hid_dim, pf_dim, dropout)\n",
    "\n",
    "        # Dropout\n",
    "        self.dropout = nn.Dropout(dropout)\n",
    "\n",
    "    def forward(self, src, src_mask):\n",
    "        \"\"\"\n",
    "        Forward pass for an encoder layer.\n",
    "\n",
    "        Args:\n",
    "            src (torch.Tensor): Input sequence tensor of shape [batch_size, src_len, hid_dim].\n",
    "            src_mask (torch.Tensor): Source mask tensor of shape [batch_size, 1, 1, src_len].\n",
    "\n",
    "        Returns:\n",
    "            torch.Tensor: Encoded representation of shape [batch_size, src_len, hid_dim].\n",
    "        \"\"\"\n",
    "        # Self-Attention\n",
    "        _src, _ = self.self_attention(src, src, src, src_mask)\n",
    "        src = self.self_attn_layer_norm(src + self.dropout(_src))  # Residual Connection & Layer Norm\n",
    "\n",
    "        # Feedforward Layer\n",
    "        _src = self.feedforward(src)\n",
    "        src = self.ff_layer_norm(src + self.dropout(_src))  # Residual Connection & Layer Norm\n",
    "\n",
    "        return src\n"
   ]
  },
  {
   "cell_type": "markdown",
   "metadata": {},
   "source": [
    "### Encoder"
   ]
  },
  {
   "cell_type": "code",
   "execution_count": 28,
   "metadata": {},
   "outputs": [],
   "source": [
    "class Encoder(nn.Module):\n",
    "    def __init__(self, input_dim, hid_dim, n_layers, n_heads, pf_dim, dropout, device, \n",
    "                 mech, max_length = 1000):\n",
    "        super().__init__()\n",
    "        self.device = device\n",
    "        self.tok_embedding = nn.Embedding(input_dim, hid_dim)\n",
    "        self.pos_embedding = nn.Embedding(max_length, hid_dim)\n",
    "        self.layers        = nn.ModuleList([EncoderLayer(hid_dim, n_heads, pf_dim, dropout, device, mech)\n",
    "                                           for _ in range(n_layers)])\n",
    "        self.dropout       = nn.Dropout(dropout)\n",
    "        self.scale         = torch.sqrt(torch.FloatTensor([hid_dim])).to(self.device)\n",
    "        \n",
    "    def forward(self, src, src_mask):\n",
    "        \n",
    "        #src = [batch size, src len]\n",
    "        #src_mask = [batch size, 1, 1, src len]\n",
    "        \n",
    "        batch_size = src.shape[0]\n",
    "        src_len    = src.shape[1]\n",
    "        \n",
    "        pos        = torch.arange(0, src_len).unsqueeze(0).repeat(batch_size, 1).to(self.device)\n",
    "        #pos: [batch_size, src_len]\n",
    "        \n",
    "        src        = self.dropout((self.tok_embedding(src) * self.scale) + self.pos_embedding(pos))\n",
    "        #src: [batch_size, src_len, hid_dim]\n",
    "        \n",
    "        for layer in self.layers:\n",
    "            src = layer(src, src_mask)\n",
    "        #src: [batch_size, src_len, hid_dim]\n",
    "        return src"
   ]
  },
  {
   "cell_type": "markdown",
   "metadata": {},
   "source": [
    "## Multihead Attention layer"
   ]
  },
  {
   "cell_type": "code",
   "execution_count": 29,
   "metadata": {},
   "outputs": [],
   "source": [
    "class MultiHeadAttentionLayer(nn.Module):\n",
    "    def __init__(self, hid_dim, n_heads, dropout, device, mech):\n",
    "        super().__init__()\n",
    "        assert hid_dim % n_heads == 0\n",
    "        self.hid_dim  = hid_dim\n",
    "        self.n_heads  = n_heads\n",
    "        self.head_dim = hid_dim // n_heads\n",
    "        self.mech = mech # attention mechanism selector\n",
    "        \n",
    "        self.fc_q     = nn.Linear(hid_dim, hid_dim)\n",
    "        self.fc_k     = nn.Linear(hid_dim, hid_dim)\n",
    "        self.fc_v     = nn.Linear(hid_dim, hid_dim)\n",
    "\n",
    "        # for additive attention\n",
    "        self.v        = nn.Linear(self.head_dim, 1)                 \n",
    "        self.W        = nn.Linear(self.head_dim, self.head_dim) # reused in multiplicative attention\n",
    "        self.U        = nn.Linear(self.head_dim, self.head_dim)\n",
    "        \n",
    "        self.fc_o     = nn.Linear(hid_dim, hid_dim)\n",
    "        \n",
    "        self.dropout  = nn.Dropout(dropout)\n",
    "        \n",
    "        self.scale    = torch.sqrt(torch.FloatTensor([self.head_dim])).to(device)\n",
    "                \n",
    "    def forward(self, query, key, value, mask = None):\n",
    "        #src, src, src, src_mask\n",
    "        #query = [batch size, query len, hid dim]\n",
    "        #key = [batch size, key len, hid dim]\n",
    "        #value = [batch size, value len, hid dim]\n",
    "        \n",
    "        \n",
    "        batch_size = query.shape[0]\n",
    "        query_len = query.shape[1]\n",
    "        key_len = key.shape[1]\n",
    "        \n",
    "        Q = self.fc_q(query)\n",
    "        K = self.fc_k(key)\n",
    "        V = self.fc_v(value)\n",
    "        #Q=K=V: [batch_size, src len, hid_dim] when self attention\n",
    "        #Q = [batch_size, query len, hid_dim], K=V = [batch_size, key len, hid_dim]\n",
    "\n",
    "        Q = Q.view(batch_size, -1, self.n_heads, self.head_dim).permute(0, 2, 1, 3)\n",
    "        K = K.view(batch_size, -1, self.n_heads, self.head_dim).permute(0, 2, 1, 3)\n",
    "        V = V.view(batch_size, -1, self.n_heads, self.head_dim).permute(0, 2, 1, 3)\n",
    "        #Q = [batch_size, n heads, query len, head_dim]\n",
    "        #K=V = [batch_size, n heads, key len, head_dim]\n",
    "\n",
    "        if self.mech == 'gen': # general attention\n",
    "            # e = Q @ K\n",
    "            energy = torch.matmul(Q, K.permute(0, 1, 3, 2)) / self.scale\n",
    "            #Q = [batch_size, n heads, query len, head_dim] @ K = [batch_size, n heads, head_dim, key len]\n",
    "            #energy = [batch_size, n heads, query len, key len]\n",
    "\n",
    "        elif self.mech == 'mul': # multiplicative attention\n",
    "            # e = Q @ W(K)\n",
    "            energy = torch.matmul(Q, self.W(K).permute(0, 1, 3, 2)) / self.scale\n",
    "            #Q = [batch_size, n heads, query len, head_dim] @ W(K = [batch_size, n heads, head_dim, key len])\n",
    "            #energy = [batch_size, n heads, query len, key len]\n",
    "        \n",
    "        elif self.mech == 'add': # additive attention\n",
    "            # add extra dimensions to allow addition\n",
    "            Q = Q.view(batch_size, self.n_heads, query_len, 1, self.head_dim)\n",
    "            K = K.view(batch_size, self.n_heads, 1, key_len, self.head_dim)\n",
    "            # Q = [batch_size, n heads, query len, 1, head_dim]\n",
    "            # K = [batch_size, n heads, 1, key len, head_dim]\n",
    "            \n",
    "            q = self.W(Q)\n",
    "            k = self.U(K)\n",
    "\n",
    "            # e = v ( tanh( W(Q) + U(K) ) )\n",
    "            energy = self.v(torch.tanh(q + k)) / self.scale\n",
    "            #energy = [batch_size, n heads, query len, key len, 1]\n",
    "\n",
    "            energy = energy.squeeze(4)\n",
    "            #energy = [batch_size, n heads, query len, key len]\n",
    "        \n",
    "        #for making attention to padding to 0\n",
    "        if mask is not None:\n",
    "            energy = energy.masked_fill(mask == 0, -1e10)\n",
    "        \n",
    "        attention = torch.softmax(energy, dim = -1)\n",
    "        #attention = [batch_size, n heads, query len, key len]\n",
    "        \n",
    "        x = torch.matmul(self.dropout(attention), V)\n",
    "        #[batch_size, n heads, query len, key len] @ [batch_size, n heads, value len, head_dim]\n",
    "        #x = [batch_size, n heads, query len, head dim]\n",
    "        \n",
    "        x = x.permute(0, 2, 1, 3).contiguous()  #we can perform .view\n",
    "        #x = [batch_size, query len, n heads, head dim]\n",
    "        \n",
    "        x = x.view(batch_size, -1, self.hid_dim)\n",
    "        #x = [batch_size, query len, hid dim]\n",
    "        \n",
    "        x = self.fc_o(x)\n",
    "        #x = [batch_size, query len, hid dim]\n",
    "        \n",
    "        return x, attention"
   ]
  },
  {
   "cell_type": "markdown",
   "metadata": {},
   "source": [
    "## Decoder"
   ]
  },
  {
   "cell_type": "markdown",
   "metadata": {},
   "source": [
    "### Decoder layer"
   ]
  },
  {
   "cell_type": "code",
   "execution_count": 22,
   "metadata": {},
   "outputs": [],
   "source": [
    "import torch\n",
    "import torch.nn as nn\n",
    "\n",
    "class MultiHeadAttentionLayer(nn.Module):\n",
    "    def __init__(self, hid_dim, n_heads, dropout, device, mech):\n",
    "        \"\"\"\n",
    "        Multi-Head Attention Layer supporting different attention mechanisms.\n",
    "\n",
    "        Args:\n",
    "            hid_dim (int): Hidden dimension size.\n",
    "            n_heads (int): Number of attention heads.\n",
    "            dropout (float): Dropout rate.\n",
    "            device (torch.device): Computation device.\n",
    "            mech (str): Attention mechanism selector ('gen', 'mul', 'add').\n",
    "        \"\"\"\n",
    "        super().__init__()\n",
    "\n",
    "        assert hid_dim % n_heads == 0, \"hid_dim must be divisible by n_heads\"\n",
    "\n",
    "        self.hid_dim = hid_dim\n",
    "        self.n_heads = n_heads\n",
    "        self.head_dim = hid_dim // n_heads\n",
    "        self.mech = mech  # Attention mechanism type\n",
    "\n",
    "        # Linear projections for Query, Key, and Value\n",
    "        self.fc_q = nn.Linear(hid_dim, hid_dim)\n",
    "        self.fc_k = nn.Linear(hid_dim, hid_dim)\n",
    "        self.fc_v = nn.Linear(hid_dim, hid_dim)\n",
    "\n",
    "        # Additional layers for additive attention\n",
    "        self.v = nn.Linear(self.head_dim, 1)\n",
    "        self.W = nn.Linear(self.head_dim, self.head_dim)  # Used in multiplicative attention\n",
    "        self.U = nn.Linear(self.head_dim, self.head_dim)\n",
    "\n",
    "        # Final output projection\n",
    "        self.fc_o = nn.Linear(hid_dim, hid_dim)\n",
    "\n",
    "        self.dropout = nn.Dropout(dropout)\n",
    "        self.scale = torch.sqrt(torch.FloatTensor([self.head_dim])).to(device)\n",
    "\n",
    "    def forward(self, query, key, value, mask=None):\n",
    "        \"\"\"\n",
    "        Forward pass for multi-head attention.\n",
    "\n",
    "        Args:\n",
    "            query (torch.Tensor): Query tensor of shape [batch_size, query_len, hid_dim].\n",
    "            key (torch.Tensor): Key tensor of shape [batch_size, key_len, hid_dim].\n",
    "            value (torch.Tensor): Value tensor of shape [batch_size, value_len, hid_dim].\n",
    "            mask (torch.Tensor, optional): Attention mask of shape [batch_size, 1, 1, key_len].\n",
    "\n",
    "        Returns:\n",
    "            torch.Tensor: Output tensor of shape [batch_size, query_len, hid_dim].\n",
    "            torch.Tensor: Attention weights of shape [batch_size, n_heads, query_len, key_len].\n",
    "        \"\"\"\n",
    "        batch_size, query_len, _ = query.shape\n",
    "        key_len = key.shape[1]\n",
    "\n",
    "        # Apply linear projections\n",
    "        Q = self.fc_q(query)\n",
    "        K = self.fc_k(key)\n",
    "        V = self.fc_v(value)\n",
    "\n",
    "        # Reshape into multiple heads\n",
    "        Q = Q.view(batch_size, query_len, self.n_heads, self.head_dim).permute(0, 2, 1, 3)\n",
    "        K = K.view(batch_size, key_len, self.n_heads, self.head_dim).permute(0, 2, 1, 3)\n",
    "        V = V.view(batch_size, key_len, self.n_heads, self.head_dim).permute(0, 2, 1, 3)\n",
    "        # Shape: [batch_size, n_heads, seq_len, head_dim]\n",
    "\n",
    "        # Compute attention scores based on selected mechanism\n",
    "        if self.mech == 'gen':  # General attention\n",
    "            energy = torch.matmul(Q, K.permute(0, 1, 3, 2)) / self.scale\n",
    "        elif self.mech == 'mul':  # Multiplicative attention\n",
    "            energy = torch.matmul(Q, self.W(K).permute(0, 1, 3, 2)) / self.scale\n",
    "        elif self.mech == 'add':  # Additive attention\n",
    "            # Reshape Q and K for element-wise addition\n",
    "            Q = Q.unsqueeze(3)  # [batch_size, n_heads, query_len, 1, head_dim]\n",
    "            K = K.unsqueeze(2)  # [batch_size, n_heads, 1, key_len, head_dim]\n",
    "\n",
    "            # Compute energy using additive attention formula\n",
    "            energy = self.v(torch.tanh(self.W(Q) + self.U(K))) / self.scale\n",
    "            energy = energy.squeeze(-1)  # Remove last dimension to match [batch_size, n_heads, query_len, key_len]\n",
    "\n",
    "        # Apply mask if provided (e.g., padding mask)\n",
    "        if mask is not None:\n",
    "            energy = energy.masked_fill(mask == 0, -1e10)\n",
    "\n",
    "        # Compute attention weights\n",
    "        attention = torch.softmax(energy, dim=-1)\n",
    "\n",
    "        # Apply attention to values\n",
    "        x = torch.matmul(self.dropout(attention), V)\n",
    "\n",
    "        # Reshape back to original size\n",
    "        x = x.permute(0, 2, 1, 3).contiguous()  # [batch_size, query_len, n_heads, head_dim]\n",
    "        x = x.view(batch_size, query_len, self.hid_dim)  # Merge heads\n",
    "\n",
    "        # Final linear projection\n",
    "        x = self.fc_o(x)\n",
    "\n",
    "        return x, attention\n"
   ]
  },
  {
   "cell_type": "code",
   "execution_count": 30,
   "metadata": {},
   "outputs": [],
   "source": [
    "class DecoderLayer(nn.Module):\n",
    "    def __init__(self, hid_dim, n_heads, pf_dim, dropout, device, mech):\n",
    "        super().__init__()\n",
    "        self.self_attn_layer_norm = nn.LayerNorm(hid_dim)\n",
    "        self.enc_attn_layer_norm  = nn.LayerNorm(hid_dim)\n",
    "        self.ff_layer_norm        = nn.LayerNorm(hid_dim)\n",
    "        self.self_attention       = MultiHeadAttentionLayer(hid_dim, n_heads, dropout, device, mech)\n",
    "        self.encoder_attention    = MultiHeadAttentionLayer(hid_dim, n_heads, dropout, device, mech)\n",
    "        self.feedforward          = PositionwiseFeedforwardLayer(hid_dim, pf_dim, dropout)\n",
    "        self.dropout              = nn.Dropout(dropout)\n",
    "        \n",
    "    def forward(self, trg, enc_src, trg_mask, src_mask):\n",
    "        \n",
    "        #trg = [batch size, trg len, hid dim]\n",
    "        #enc_src = [batch size, src len, hid dim]\n",
    "        #trg_mask = [batch size, 1, trg len, trg len]\n",
    "        #src_mask = [batch size, 1, 1, src len]\n",
    "        \n",
    "        _trg, _ = self.self_attention(trg, trg, trg, trg_mask)\n",
    "        trg     = self.self_attn_layer_norm(trg + self.dropout(_trg))\n",
    "        #trg = [batch_size, trg len, hid dim]\n",
    "        \n",
    "        _trg, attention = self.encoder_attention(trg, enc_src, enc_src, src_mask)\n",
    "        trg             = self.enc_attn_layer_norm(trg + self.dropout(_trg))\n",
    "        #trg = [batch_size, trg len, hid dim]\n",
    "        #attention = [batch_size, n heads, trg len, src len]\n",
    "        \n",
    "        _trg = self.feedforward(trg)\n",
    "        trg  = self.ff_layer_norm(trg + self.dropout(_trg))\n",
    "        #trg = [batch_size, trg len, hid dim]\n",
    "        \n",
    "        return trg, attention"
   ]
  },
  {
   "cell_type": "code",
   "execution_count": 23,
   "metadata": {},
   "outputs": [],
   "source": [
    "import torch\n",
    "import torch.nn as nn\n",
    "\n",
    "class DecoderLayer(nn.Module):\n",
    "    def __init__(self, hid_dim, n_heads, pf_dim, dropout, device, mech):\n",
    "        \"\"\"\n",
    "        Transformer Decoder Layer.\n",
    "\n",
    "        Args:\n",
    "            hid_dim (int): Hidden dimension size.\n",
    "            n_heads (int): Number of attention heads.\n",
    "            pf_dim (int): Position-wise feedforward layer dimension.\n",
    "            dropout (float): Dropout rate.\n",
    "            device (torch.device): Computation device.\n",
    "            mech (str): Attention mechanism selector.\n",
    "        \"\"\"\n",
    "        super().__init__()\n",
    "\n",
    "        # Layer Normalization\n",
    "        self.self_attn_layer_norm = nn.LayerNorm(hid_dim)\n",
    "        self.enc_attn_layer_norm = nn.LayerNorm(hid_dim)\n",
    "        self.ff_layer_norm = nn.LayerNorm(hid_dim)\n",
    "\n",
    "        # Multi-Head Attention Layers\n",
    "        self.self_attention = MultiHeadAttentionLayer(hid_dim, n_heads, dropout, device, mech)\n",
    "        self.encoder_attention = MultiHeadAttentionLayer(hid_dim, n_heads, dropout, device, mech)\n",
    "\n",
    "        # Feedforward Layer\n",
    "        self.feedforward = PositionwiseFeedforwardLayer(hid_dim, pf_dim, dropout)\n",
    "\n",
    "        # Dropout Layer\n",
    "        self.dropout = nn.Dropout(dropout)\n",
    "\n",
    "    def forward(self, trg, enc_src, trg_mask, src_mask):\n",
    "        \"\"\"\n",
    "        Forward pass for the Transformer decoder layer.\n",
    "\n",
    "        Args:\n",
    "            trg (torch.Tensor): Target sequence tensor of shape [batch_size, trg_len, hid_dim].\n",
    "            enc_src (torch.Tensor): Encoded source sequence of shape [batch_size, src_len, hid_dim].\n",
    "            trg_mask (torch.Tensor): Target mask of shape [batch_size, 1, trg_len, trg_len].\n",
    "            src_mask (torch.Tensor): Source mask of shape [batch_size, 1, 1, src_len].\n",
    "\n",
    "        Returns:\n",
    "            torch.Tensor: Decoded representation of shape [batch_size, trg_len, hid_dim].\n",
    "            torch.Tensor: Attention weights of shape [batch_size, n_heads, trg_len, src_len].\n",
    "        \"\"\"\n",
    "        # Self-Attention (Masked)\n",
    "        _trg, _ = self.self_attention(trg, trg, trg, trg_mask)\n",
    "        trg = self.self_attn_layer_norm(trg + self.dropout(_trg))  # Residual Connection + Layer Norm\n",
    "\n",
    "        # Encoder-Decoder Attention\n",
    "        _trg, attention = self.encoder_attention(trg, enc_src, enc_src, src_mask)\n",
    "        trg = self.enc_attn_layer_norm(trg + self.dropout(_trg))  # Residual Connection + Layer Norm\n",
    "\n",
    "        # Feedforward Network\n",
    "        _trg = self.feedforward(trg)\n",
    "        trg = self.ff_layer_norm(trg + self.dropout(_trg))  # Residual Connection + Layer Norm\n",
    "\n",
    "        return trg, attention\n"
   ]
  },
  {
   "cell_type": "markdown",
   "metadata": {},
   "source": [
    "### Decoder"
   ]
  },
  {
   "cell_type": "code",
   "execution_count": 31,
   "metadata": {},
   "outputs": [],
   "source": [
    "class Decoder(nn.Module):\n",
    "    def __init__(self, output_dim, hid_dim, n_layers, n_heads, \n",
    "                 pf_dim, dropout, device, mech, max_length = 1000):\n",
    "        super().__init__()\n",
    "        self.device = device\n",
    "        self.mech = mech\n",
    "        self.tok_embedding = nn.Embedding(output_dim, hid_dim)\n",
    "        self.pos_embedding = nn.Embedding(max_length, hid_dim)\n",
    "        self.layers        = nn.ModuleList([DecoderLayer(hid_dim, n_heads, pf_dim, dropout, device, mech)\n",
    "                                            for _ in range(n_layers)])\n",
    "        self.fc_out        = nn.Linear(hid_dim, output_dim)\n",
    "        self.dropout       = nn.Dropout(dropout)\n",
    "        self.scale         = torch.sqrt(torch.FloatTensor([hid_dim])).to(device)\n",
    "        \n",
    "    def forward(self, trg, enc_src, trg_mask, src_mask):\n",
    "        \n",
    "        #trg = [batch size, trg len]\n",
    "        #enc_src = [batch size, src len, hid dim]\n",
    "        #trg_mask = [batch size, 1, trg len, trg len]\n",
    "        #src_mask = [batch size, 1, 1, src len]\n",
    "        \n",
    "        batch_size = trg.shape[0]\n",
    "        trg_len    = trg.shape[1]\n",
    "        \n",
    "        \n",
    "        pos = torch.arange(0, trg_len).unsqueeze(0).repeat(batch_size, 1).to(self.device)\n",
    "        #pos: [batch_size, trg len]\n",
    "        \n",
    "        # print(trg.shape, self.scale, self.tok_embedding, self.pos_embedding)\n",
    "        trg = self.dropout((self.tok_embedding(trg) * self.scale) + self.pos_embedding(pos))\n",
    "        #trg: [batch_size, trg len, hid dim]\n",
    "        \n",
    "        for layer in self.layers:\n",
    "            trg, attention = layer(trg, enc_src, trg_mask, src_mask)\n",
    "            \n",
    "        #trg: [batch_size, trg len, hid dim]\n",
    "        #attention: [batch_size, n heads, trg len, src len]\n",
    "        \n",
    "        output = self.fc_out(trg)\n",
    "        #output = [batch_size, trg len, output_dim]\n",
    "        # print(attention.shape)\n",
    "        return output, attention"
   ]
  },
  {
   "cell_type": "code",
   "execution_count": 24,
   "metadata": {},
   "outputs": [],
   "source": [
    "import torch\n",
    "import torch.nn as nn\n",
    "\n",
    "class Decoder(nn.Module):\n",
    "    def __init__(self, output_dim, hid_dim, n_layers, n_heads, \n",
    "                 pf_dim, dropout, device, mech, max_length=1000):\n",
    "        \"\"\"\n",
    "        Transformer Decoder.\n",
    "\n",
    "        Args:\n",
    "            output_dim (int): Vocabulary size of the output language.\n",
    "            hid_dim (int): Hidden dimension size.\n",
    "            n_layers (int): Number of decoder layers.\n",
    "            n_heads (int): Number of attention heads.\n",
    "            pf_dim (int): Position-wise feedforward layer dimension.\n",
    "            dropout (float): Dropout rate.\n",
    "            device (torch.device): Computation device.\n",
    "            mech (str): Attention mechanism selector.\n",
    "            max_length (int, optional): Maximum sequence length. Defaults to 1000.\n",
    "        \"\"\"\n",
    "        super().__init__()\n",
    "\n",
    "        self.device = device\n",
    "        self.mech = mech\n",
    "\n",
    "        # Embedding layers\n",
    "        self.tok_embedding = nn.Embedding(output_dim, hid_dim)\n",
    "        self.pos_embedding = nn.Embedding(max_length, hid_dim)\n",
    "\n",
    "        # Decoder layers\n",
    "        self.layers = nn.ModuleList([\n",
    "            DecoderLayer(hid_dim, n_heads, pf_dim, dropout, device, mech)\n",
    "            for _ in range(n_layers)\n",
    "        ])\n",
    "\n",
    "        # Final output layer\n",
    "        self.fc_out = nn.Linear(hid_dim, output_dim)\n",
    "\n",
    "        # Dropout and scaling\n",
    "        self.dropout = nn.Dropout(dropout)\n",
    "        self.scale = torch.sqrt(torch.FloatTensor([hid_dim])).to(device)\n",
    "\n",
    "    def forward(self, trg, enc_src, trg_mask, src_mask):\n",
    "        \"\"\"\n",
    "        Forward pass for the Transformer decoder.\n",
    "\n",
    "        Args:\n",
    "            trg (torch.Tensor): Target sequence tensor of shape [batch_size, trg_len].\n",
    "            enc_src (torch.Tensor): Encoded source sequence of shape [batch_size, src_len, hid_dim].\n",
    "            trg_mask (torch.Tensor): Target mask of shape [batch_size, 1, trg_len, trg_len].\n",
    "            src_mask (torch.Tensor): Source mask of shape [batch_size, 1, 1, src_len].\n",
    "\n",
    "        Returns:\n",
    "            torch.Tensor: Output tensor of shape [batch_size, trg_len, output_dim].\n",
    "            torch.Tensor: Attention weights of shape [batch_size, n_heads, trg_len, src_len].\n",
    "        \"\"\"\n",
    "        batch_size, trg_len = trg.shape\n",
    "\n",
    "        # Create positional encodings\n",
    "        pos = torch.arange(0, trg_len, device=self.device).unsqueeze(0).repeat(batch_size, 1)\n",
    "\n",
    "        # Apply token and positional embeddings\n",
    "        trg = self.dropout(self.tok_embedding(trg) * self.scale + self.pos_embedding(pos))\n",
    "\n",
    "        # Pass through decoder layers\n",
    "        for layer in self.layers:\n",
    "            trg, attention = layer(trg, enc_src, trg_mask, src_mask)\n",
    "\n",
    "        # Compute final output\n",
    "        output = self.fc_out(trg)\n",
    "\n",
    "        return output, attention\n"
   ]
  },
  {
   "cell_type": "markdown",
   "metadata": {},
   "source": [
    "### Positional Feedforward layer"
   ]
  },
  {
   "cell_type": "code",
   "execution_count": 25,
   "metadata": {},
   "outputs": [],
   "source": [
    "import torch\n",
    "import torch.nn as nn\n",
    "\n",
    "class PositionwiseFeedforwardLayer(nn.Module):\n",
    "    def __init__(self, hid_dim, pf_dim, dropout):\n",
    "        \"\"\"\n",
    "        Position-wise Feedforward Layer.\n",
    "\n",
    "        Args:\n",
    "            hid_dim (int): Hidden dimension size.\n",
    "            pf_dim (int): Intermediate feedforward dimension.\n",
    "            dropout (float): Dropout rate.\n",
    "        \"\"\"\n",
    "        super().__init__()\n",
    "\n",
    "        self.fc1 = nn.Linear(hid_dim, pf_dim)\n",
    "        self.fc2 = nn.Linear(pf_dim, hid_dim)\n",
    "        self.dropout = nn.Dropout(dropout)\n",
    "        self.activation = nn.ReLU()\n",
    "\n",
    "    def forward(self, x):\n",
    "        \"\"\"\n",
    "        Forward pass of the feedforward layer.\n",
    "\n",
    "        Args:\n",
    "            x (torch.Tensor): Input tensor of shape [batch_size, seq_len, hid_dim].\n",
    "\n",
    "        Returns:\n",
    "            torch.Tensor: Output tensor of shape [batch_size, seq_len, hid_dim].\n",
    "        \"\"\"\n",
    "        return self.fc2(self.dropout(self.activation(self.fc1(x))))\n"
   ]
  },
  {
   "cell_type": "code",
   "execution_count": 32,
   "metadata": {},
   "outputs": [],
   "source": [
    "class PositionwiseFeedforwardLayer(nn.Module):\n",
    "    def __init__(self, hid_dim, pf_dim, dropout):\n",
    "        super().__init__()\n",
    "        self.fc1 = nn.Linear(hid_dim, pf_dim)\n",
    "        self.fc2 = nn.Linear(pf_dim, hid_dim)\n",
    "        self.dropout = nn.Dropout(dropout)\n",
    "        \n",
    "    def forward(self, x):\n",
    "        #x = [batch size, src len, hid dim]\n",
    "        x = self.dropout(torch.relu(self.fc1(x)))\n",
    "        x = self.fc2(x)\n",
    "        \n",
    "        return x"
   ]
  },
  {
   "cell_type": "markdown",
   "metadata": {},
   "source": [
    "## Seq2Seq"
   ]
  },
  {
   "cell_type": "code",
   "execution_count": 33,
   "metadata": {},
   "outputs": [],
   "source": [
    "class Seq2SeqTransformer(nn.Module):\n",
    "    def __init__(self, encoder, decoder, src_pad_idx, trg_pad_idx, device):\n",
    "        super().__init__()\n",
    "        \n",
    "        self.encoder = encoder\n",
    "        self.decoder = decoder\n",
    "        self.src_pad_idx = src_pad_idx\n",
    "        self.trg_pad_idx = trg_pad_idx\n",
    "        self.device = device\n",
    "        \n",
    "    def make_src_mask(self, src):\n",
    "        \n",
    "        #src = [batch size, src len]\n",
    "        \n",
    "        src_mask = (src != self.src_pad_idx).unsqueeze(1).unsqueeze(2)\n",
    "        #src_mask = [batch size, 1, 1, src len]\n",
    "\n",
    "        return src_mask\n",
    "    \n",
    "    def make_trg_mask(self, trg):\n",
    "        \n",
    "        #trg = [batch size, trg len]\n",
    "        \n",
    "        trg_pad_mask = (trg != self.trg_pad_idx).unsqueeze(1).unsqueeze(2)\n",
    "        #trg_pad_mask = [batch size, 1, 1, trg len]\n",
    "        \n",
    "        trg_len = trg.shape[1]\n",
    "        \n",
    "        trg_sub_mask = torch.tril(torch.ones((trg_len, trg_len), device = self.device)).bool()\n",
    "        #trg_sub_mask = [trg len, trg len]\n",
    "            \n",
    "        trg_mask = trg_pad_mask & trg_sub_mask\n",
    "        #trg_mask = [batch size, 1, trg len, trg len]\n",
    "        \n",
    "        return trg_mask\n",
    "\n",
    "    def forward(self, src, trg):\n",
    "        \n",
    "        #src = [batch size, src len]\n",
    "        #trg = [batch size, trg len]\n",
    "                \n",
    "        src_mask = self.make_src_mask(src)\n",
    "        trg_mask = self.make_trg_mask(trg)\n",
    "        \n",
    "        #src_mask = [batch size, 1, 1, src len]\n",
    "        #trg_mask = [batch size, 1, trg len, trg len]\n",
    "        \n",
    "        enc_src = self.encoder(src, src_mask)\n",
    "        #enc_src = [batch size, src len, hid dim]\n",
    "                \n",
    "        output, attention = self.decoder(trg, enc_src, trg_mask, src_mask)\n",
    "        \n",
    "        #output = [batch size, trg len, output dim]\n",
    "        #attention = [batch size, n heads, trg len, src len]\n",
    "        return output, attention"
   ]
  },
  {
   "cell_type": "code",
   "execution_count": 26,
   "metadata": {},
   "outputs": [],
   "source": [
    "import torch\n",
    "import torch.nn as nn\n",
    "\n",
    "class Seq2SeqTransformer(nn.Module):\n",
    "    def __init__(self, encoder, decoder, src_pad_idx, trg_pad_idx, device):\n",
    "        \"\"\"\n",
    "        Transformer-based Sequence-to-Sequence Model.\n",
    "\n",
    "        Args:\n",
    "            encoder (nn.Module): Encoder module.\n",
    "            decoder (nn.Module): Decoder module.\n",
    "            src_pad_idx (int): Padding index for the source sequence.\n",
    "            trg_pad_idx (int): Padding index for the target sequence.\n",
    "            device (torch.device): Computation device.\n",
    "        \"\"\"\n",
    "        super().__init__()\n",
    "\n",
    "        self.encoder = encoder\n",
    "        self.decoder = decoder\n",
    "        self.src_pad_idx = src_pad_idx\n",
    "        self.trg_pad_idx = trg_pad_idx\n",
    "        self.device = device\n",
    "\n",
    "    def make_src_mask(self, src):\n",
    "        \"\"\"\n",
    "        Creates a source mask to ignore padding tokens.\n",
    "\n",
    "        Args:\n",
    "            src (torch.Tensor): Source sequence of shape [batch_size, src_len].\n",
    "\n",
    "        Returns:\n",
    "            torch.Tensor: Source mask of shape [batch_size, 1, 1, src_len].\n",
    "        \"\"\"\n",
    "        return (src != self.src_pad_idx).unsqueeze(1).unsqueeze(2)\n",
    "\n",
    "    def make_trg_mask(self, trg):\n",
    "        \"\"\"\n",
    "        Creates a target mask with padding and look-ahead masking.\n",
    "\n",
    "        Args:\n",
    "            trg (torch.Tensor): Target sequence of shape [batch_size, trg_len].\n",
    "\n",
    "        Returns:\n",
    "            torch.Tensor: Target mask of shape [batch_size, 1, trg_len, trg_len].\n",
    "        \"\"\"\n",
    "        batch_size, trg_len = trg.shape\n",
    "\n",
    "        # Padding mask: Ignore padded tokens\n",
    "        trg_pad_mask = (trg != self.trg_pad_idx).unsqueeze(1).unsqueeze(2)\n",
    "\n",
    "        # Look-ahead mask: Prevent attending to future tokens\n",
    "        trg_sub_mask = torch.tril(torch.ones((trg_len, trg_len), device=self.device)).bool()\n",
    "\n",
    "        # Combine both masks\n",
    "        return trg_pad_mask & trg_sub_mask\n",
    "\n",
    "    def forward(self, src, trg):\n",
    "        \"\"\"\n",
    "        Forward pass of the Transformer model.\n",
    "\n",
    "        Args:\n",
    "            src (torch.Tensor): Source sequence of shape [batch_size, src_len].\n",
    "            trg (torch.Tensor): Target sequence of shape [batch_size, trg_len].\n",
    "\n",
    "        Returns:\n",
    "            torch.Tensor: Output sequence of shape [batch_size, trg_len, output_dim].\n",
    "            torch.Tensor: Attention weights of shape [batch_size, n_heads, trg_len, src_len].\n",
    "        \"\"\"\n",
    "        # Create masks\n",
    "        src_mask = self.make_src_mask(src)\n",
    "        trg_mask = self.make_trg_mask(trg)\n",
    "\n",
    "        # Encode the source sequence\n",
    "        enc_src = self.encoder(src, src_mask)\n",
    "\n",
    "        # Decode the target sequence using the encoded source\n",
    "        output, attention = self.decoder(trg, enc_src, trg_mask, src_mask)\n",
    "\n",
    "        return output, attention\n"
   ]
  },
  {
   "cell_type": "markdown",
   "metadata": {},
   "source": [
    "# 4. Training"
   ]
  },
  {
   "cell_type": "markdown",
   "metadata": {},
   "source": [
    "### Initialize functions"
   ]
  },
  {
   "cell_type": "code",
   "execution_count": 27,
   "metadata": {},
   "outputs": [],
   "source": [
    "import torch.nn as nn\n",
    "\n",
    "def initialize_weights(m):\n",
    "    \"\"\"\n",
    "    Initializes weights of the model using Xavier Uniform Initialization.\n",
    "\n",
    "    Args:\n",
    "        m (nn.Module): A neural network module.\n",
    "\n",
    "    Notes:\n",
    "        - Only applies Xavier initialization to layers with a `weight` attribute \n",
    "          that has more than one dimension (e.g., Linear, Conv layers).\n",
    "        - Does not modify biases.\n",
    "    \"\"\"\n",
    "    if hasattr(m, 'weight') and m.weight.dim() > 1:\n",
    "        nn.init.xavier_uniform_(m.weight)\n"
   ]
  },
  {
   "cell_type": "code",
   "execution_count": 34,
   "metadata": {},
   "outputs": [],
   "source": [
    "def initialize_weights(m):\n",
    "    if hasattr(m, 'weight') and m.weight.dim() > 1:\n",
    "        nn.init.xavier_uniform_(m.weight.data)"
   ]
  },
  {
   "cell_type": "code",
   "execution_count": 28,
   "metadata": {},
   "outputs": [],
   "source": [
    "import torch.nn as nn\n",
    "\n",
    "def initialize_model(attention_mech):\n",
    "    \"\"\"\n",
    "    Initializes a Seq2Seq Transformer model with the specified attention mechanism.\n",
    "\n",
    "    Args:\n",
    "        attention_mech (str): Type of attention mechanism ('gen', 'mul', 'add').\n",
    "\n",
    "    Returns:\n",
    "        nn.Module: The initialized Transformer model.\n",
    "    \"\"\"\n",
    "    # Define model hyperparameters\n",
    "    INPUT_DIM = len(vocab_transform[SRC_LANGUAGE])\n",
    "    OUTPUT_DIM = len(vocab_transform[TRG_LANGUAGE])\n",
    "    HID_DIM = 256\n",
    "    ENC_LAYERS = 3\n",
    "    DEC_LAYERS = 3\n",
    "    ENC_HEADS = 8\n",
    "    DEC_HEADS = 8\n",
    "    ENC_PF_DIM = 512\n",
    "    DEC_PF_DIM = 512\n",
    "    ENC_DROPOUT = 0.1\n",
    "    DEC_DROPOUT = 0.1\n",
    "\n",
    "    # Initialize Encoder and Decoder\n",
    "    encoder = Encoder(INPUT_DIM, HID_DIM, ENC_LAYERS, ENC_HEADS, ENC_PF_DIM, ENC_DROPOUT, device, attention_mech)\n",
    "    decoder = Decoder(OUTPUT_DIM, HID_DIM, DEC_LAYERS, DEC_HEADS, DEC_PF_DIM, DEC_DROPOUT, device, attention_mech)\n",
    "\n",
    "    # Define padding index\n",
    "    SRC_PAD_IDX = PAD_IDX\n",
    "    TRG_PAD_IDX = PAD_IDX\n",
    "\n",
    "    # Create Transformer model\n",
    "    model = Seq2SeqTransformer(encoder, decoder, SRC_PAD_IDX, TRG_PAD_IDX, device).to(device)\n",
    "\n",
    "    # Apply weight initialization\n",
    "    model.apply(initialize_weights)\n",
    "\n",
    "    return model\n"
   ]
  },
  {
   "cell_type": "code",
   "execution_count": 35,
   "metadata": {},
   "outputs": [],
   "source": [
    "def initialize_model(attention_mech):\n",
    "    INPUT_DIM = len(vocab_transform[SRC_LANGUAGE])\n",
    "    OUTPUT_DIM = len(vocab_transform[TRG_LANGUAGE])\n",
    "    HID_DIM = 256\n",
    "    ENC_LAYERS = 3\n",
    "    DEC_LAYERS = 3\n",
    "    ENC_HEADS = 8\n",
    "    DEC_HEADS = 8\n",
    "    ENC_PF_DIM = 512\n",
    "    DEC_PF_DIM = 512\n",
    "    ENC_DROPOUT = 0.1\n",
    "    DEC_DROPOUT = 0.1\n",
    "\n",
    "    enc = Encoder(INPUT_DIM, \n",
    "                HID_DIM, \n",
    "                ENC_LAYERS, \n",
    "                ENC_HEADS, \n",
    "                ENC_PF_DIM, \n",
    "                ENC_DROPOUT, \n",
    "                device,\n",
    "                attention_mech)\n",
    "\n",
    "    dec = Decoder(OUTPUT_DIM, \n",
    "                HID_DIM, \n",
    "                DEC_LAYERS, \n",
    "                DEC_HEADS, \n",
    "                DEC_PF_DIM, \n",
    "                DEC_DROPOUT, \n",
    "                device,\n",
    "                attention_mech)\n",
    "\n",
    "    SRC_PAD_IDX = PAD_IDX\n",
    "    TRG_PAD_IDX = PAD_IDX\n",
    "\n",
    "    model = Seq2SeqTransformer(enc, dec, SRC_PAD_IDX, TRG_PAD_IDX, device).to(device)\n",
    "    model.apply(initialize_weights)\n",
    "\n",
    "    return model"
   ]
  },
  {
   "cell_type": "code",
   "execution_count": 29,
   "metadata": {},
   "outputs": [],
   "source": [
    "def count_parameters(model):\n",
    "    \"\"\"\n",
    "    Counts and prints the total number of trainable parameters in the model.\n",
    "\n",
    "    Args:\n",
    "        model (nn.Module): The model to analyze.\n",
    "\n",
    "    Returns:\n",
    "        int: Total number of trainable parameters.\n",
    "    \"\"\"\n",
    "    total_params = sum(p.numel() for p in model.parameters() if p.requires_grad)\n",
    "\n",
    "    print(f\"Total Trainable Parameters: {total_params:,}\")\n",
    "\n",
    "    return total_params\n"
   ]
  },
  {
   "cell_type": "code",
   "execution_count": 36,
   "metadata": {},
   "outputs": [],
   "source": [
    "#we can print the complexity by the number of parameters\n",
    "def count_parameters(model):\n",
    "    params = [p.numel() for p in model.parameters() if p.requires_grad]\n",
    "    # for item in params:\n",
    "        # print(f'{item:>6}')\n",
    "    print(f'______\\n{sum(params):>6}')"
   ]
  },
  {
   "cell_type": "markdown",
   "metadata": {},
   "source": [
    "## General Attention model"
   ]
  },
  {
   "cell_type": "code",
   "execution_count": 30,
   "metadata": {},
   "outputs": [
    {
     "ename": "NameError",
     "evalue": "name 'Encoder' is not defined",
     "output_type": "error",
     "traceback": [
      "\u001b[1;31m---------------------------------------------------------------------------\u001b[0m",
      "\u001b[1;31mNameError\u001b[0m                                 Traceback (most recent call last)",
      "Cell \u001b[1;32mIn[30], line 1\u001b[0m\n\u001b[1;32m----> 1\u001b[0m genmodel \u001b[38;5;241m=\u001b[39m \u001b[43minitialize_model\u001b[49m\u001b[43m(\u001b[49m\u001b[38;5;124;43m'\u001b[39;49m\u001b[38;5;124;43mgen\u001b[39;49m\u001b[38;5;124;43m'\u001b[39;49m\u001b[43m)\u001b[49m\n",
      "Cell \u001b[1;32mIn[28], line 27\u001b[0m, in \u001b[0;36minitialize_model\u001b[1;34m(attention_mech)\u001b[0m\n\u001b[0;32m     24\u001b[0m DEC_DROPOUT \u001b[38;5;241m=\u001b[39m \u001b[38;5;241m0.1\u001b[39m\n\u001b[0;32m     26\u001b[0m \u001b[38;5;66;03m# Initialize Encoder and Decoder\u001b[39;00m\n\u001b[1;32m---> 27\u001b[0m encoder \u001b[38;5;241m=\u001b[39m \u001b[43mEncoder\u001b[49m(INPUT_DIM, HID_DIM, ENC_LAYERS, ENC_HEADS, ENC_PF_DIM, ENC_DROPOUT, device, attention_mech)\n\u001b[0;32m     28\u001b[0m decoder \u001b[38;5;241m=\u001b[39m Decoder(OUTPUT_DIM, HID_DIM, DEC_LAYERS, DEC_HEADS, DEC_PF_DIM, DEC_DROPOUT, device, attention_mech)\n\u001b[0;32m     30\u001b[0m \u001b[38;5;66;03m# Define padding index\u001b[39;00m\n",
      "\u001b[1;31mNameError\u001b[0m: name 'Encoder' is not defined"
     ]
    }
   ],
   "source": [
    "genmodel = initialize_model('gen')"
   ]
  },
  {
   "cell_type": "code",
   "execution_count": 38,
   "metadata": {},
   "outputs": [
    {
     "name": "stdout",
     "output_type": "stream",
     "text": [
      "______\n",
      "4993491\n"
     ]
    }
   ],
   "source": [
    "count_parameters(genmodel)"
   ]
  },
  {
   "cell_type": "markdown",
   "metadata": {},
   "source": [
    "## Multiplicative Attention model"
   ]
  },
  {
   "cell_type": "code",
   "execution_count": 39,
   "metadata": {},
   "outputs": [],
   "source": [
    "mulmodel = initialize_model('mul')"
   ]
  },
  {
   "cell_type": "code",
   "execution_count": 40,
   "metadata": {},
   "outputs": [
    {
     "name": "stdout",
     "output_type": "stream",
     "text": [
      "______\n",
      "4993491\n"
     ]
    }
   ],
   "source": [
    "#we can print the complexity by the number of parameters   \n",
    "count_parameters(mulmodel)"
   ]
  },
  {
   "cell_type": "markdown",
   "metadata": {},
   "source": [
    "## Additive Attention model"
   ]
  },
  {
   "cell_type": "code",
   "execution_count": 41,
   "metadata": {},
   "outputs": [],
   "source": [
    "addmodel = initialize_model('add')"
   ]
  },
  {
   "cell_type": "code",
   "execution_count": 42,
   "metadata": {},
   "outputs": [
    {
     "name": "stdout",
     "output_type": "stream",
     "text": [
      "______\n",
      "4993491\n"
     ]
    }
   ],
   "source": [
    "#we can print the complexity by the number of parameters   \n",
    "count_parameters(addmodel)"
   ]
  },
  {
   "cell_type": "markdown",
   "metadata": {},
   "source": [
    "## Optimizer and learning rate"
   ]
  },
  {
   "cell_type": "code",
   "execution_count": 43,
   "metadata": {},
   "outputs": [],
   "source": [
    "import torch.optim as optim\n",
    "\n",
    "lr = 0.001\n",
    "\n",
    "#training hyperparameters\n",
    "optimizer_gen = optim.Adam(genmodel.parameters(), lr=lr)\n",
    "criterion_gen = nn.CrossEntropyLoss(ignore_index = PAD_IDX) #combine softmax with cross entropy\n",
    "\n",
    "optimizer_mul = optim.Adam(mulmodel.parameters(), lr=lr)\n",
    "criterion_mul = nn.CrossEntropyLoss(ignore_index = PAD_IDX)\n",
    "\n",
    "optimizer_add = optim.Adam(addmodel.parameters(), lr=lr)\n",
    "criterion_add = nn.CrossEntropyLoss(ignore_index = PAD_IDX)"
   ]
  },
  {
   "cell_type": "markdown",
   "metadata": {},
   "source": [
    "## Train/ Evaluate functions"
   ]
  },
  {
   "cell_type": "code",
   "execution_count": 44,
   "metadata": {},
   "outputs": [],
   "source": [
    "def train(model, loader, optimizer, criterion, clip, loader_length):\n",
    "    \n",
    "    model.train()\n",
    "    \n",
    "    epoch_loss = 0\n",
    "    \n",
    "    for src, src_len, trg in loader:\n",
    "        \n",
    "        src = src.to(device)\n",
    "        trg = trg.to(device)\n",
    "        # print(src.shape, trg.shape)\n",
    "\n",
    "        optimizer.zero_grad()\n",
    "        \n",
    "        #trg[:, :-1] remove the eos, e.g., \"<sos> I love sushi\" since teaching forcing, the input does not need to have eos\n",
    "        output, _ = model(src, trg[:,:-1])\n",
    "                \n",
    "        #output = [batch size, trg len - 1, output dim]\n",
    "        #trg    = [batch size, trg len]\n",
    "            \n",
    "        output_dim = output.shape[-1]\n",
    "            \n",
    "        output = output.reshape(-1, output_dim)\n",
    "        trg = trg[:,1:].reshape(-1) #trg[:, 1:] remove the sos, e.g., \"i love sushi <eos>\" since in teaching forcing, the output does not have sos\n",
    "                \n",
    "        #output = [batch size * trg len - 1, output dim]\n",
    "        #trg    = [batch size * trg len - 1]\n",
    "            \n",
    "        loss = criterion(output, trg)\n",
    "        \n",
    "        loss.backward()\n",
    "        \n",
    "        torch.nn.utils.clip_grad_norm_(model.parameters(), clip)\n",
    "        \n",
    "        optimizer.step()\n",
    "        \n",
    "        epoch_loss += loss.item()\n",
    "        \n",
    "    return epoch_loss / loader_length"
   ]
  },
  {
   "cell_type": "code",
   "execution_count": 45,
   "metadata": {},
   "outputs": [],
   "source": [
    "def evaluate(model, loader, criterion, loader_length):\n",
    "    \n",
    "    model.eval()\n",
    "    \n",
    "    epoch_loss = 0\n",
    "    \n",
    "    with torch.no_grad():\n",
    "    \n",
    "        for src, src_len, trg in loader:\n",
    "        \n",
    "            src = src.to(device)\n",
    "            trg = trg.to(device)\n",
    "\n",
    "            output, _ = model(src, trg[:,:-1])\n",
    "            \n",
    "            #output = [batch size, trg len - 1, output dim]\n",
    "            #trg = [batch size, trg len]\n",
    "            \n",
    "            output_dim = output.shape[-1]\n",
    "            \n",
    "            output = output.contiguous().view(-1, output_dim)\n",
    "            trg = trg[:,1:].contiguous().view(-1)\n",
    "            \n",
    "            #output = [batch size * trg len - 1, output dim]\n",
    "            #trg = [batch size * trg len - 1]\n",
    "            \n",
    "            loss = criterion(output, trg)\n",
    "\n",
    "            epoch_loss += loss.item()\n",
    "        \n",
    "    return epoch_loss / loader_length"
   ]
  },
  {
   "cell_type": "code",
   "execution_count": 46,
   "metadata": {},
   "outputs": [],
   "source": [
    "train_loader_length = len(train_loader)\n",
    "val_loader_length = len(valid_loader)\n",
    "test_loader_length = len(test_loader)"
   ]
  },
  {
   "cell_type": "code",
   "execution_count": 47,
   "metadata": {},
   "outputs": [],
   "source": [
    "def epoch_time(start_time, end_time):\n",
    "    elapsed_time = end_time - start_time\n",
    "    elapsed_mins = int(elapsed_time / 60)\n",
    "    elapsed_secs = int(elapsed_time - (elapsed_mins * 60))\n",
    "    return elapsed_mins, elapsed_secs"
   ]
  },
  {
   "cell_type": "code",
   "execution_count": 48,
   "metadata": {},
   "outputs": [],
   "source": [
    "def train_loop(model, optimizer, criterion):\n",
    "    best_valid_loss = float('inf')\n",
    "    best_train_loss = 0\n",
    "    num_epochs = 10\n",
    "    clip       = 1\n",
    "\n",
    "    save_path = f'./app/models/{model.decoder.mech}model.pt'\n",
    "\n",
    "    train_losses = []\n",
    "    valid_losses = []\n",
    "    total_start = time.time()\n",
    "\n",
    "    for epoch in range(num_epochs):\n",
    "        \n",
    "        start_time = time.time()\n",
    "\n",
    "        train_loss = train(model, train_loader, optimizer, criterion, clip, train_loader_length)\n",
    "        valid_loss = evaluate(model, valid_loader, criterion, val_loader_length)\n",
    "        \n",
    "        #for plotting\n",
    "        train_losses.append(train_loss)\n",
    "        valid_losses.append(valid_loss)\n",
    "        \n",
    "        end_time = time.time()\n",
    "        \n",
    "        epoch_mins, epoch_secs = epoch_time(start_time, end_time)\n",
    "\n",
    "        \n",
    "        if valid_loss < best_valid_loss:\n",
    "            best_valid_loss = valid_loss\n",
    "            best_train_loss = train_loss\n",
    "            torch.save(model.state_dict(), save_path)\n",
    "    \n",
    "        print(f'Epoch: {epoch+1:02} | Time: {epoch_mins}m {epoch_secs}s')\n",
    "        print(f'\\tTrain Loss: {train_loss:.3f} | Train PPL: {math.exp(train_loss):7.3f}')\n",
    "        print(f'\\t Val. Loss: {valid_loss:.3f} |  Val. PPL: {math.exp(valid_loss):7.3f}')\n",
    "        \n",
    "        #lower perplexity is better\n",
    "    # return losses for ploting/ evaluation\n",
    "    total_end = time.time()\n",
    "    total_min, total_sec = epoch_time(total_start, total_end)\n",
    "    print(f'Training Time: {total_min}m {total_sec}s')\n",
    "    return train_losses, valid_losses, best_valid_loss, best_train_loss"
   ]
  },
  {
   "cell_type": "code",
   "execution_count": 49,
   "metadata": {},
   "outputs": [],
   "source": [
    "def test_loop(model):\n",
    "    save_path = f'./app/models/{model.decoder.mech}model.pt' # genmodel/mulmodel/addmodel\n",
    "    model.load_state_dict(torch.load(save_path))\n",
    "    test_loss = evaluate(model, test_loader, criterion_gen, test_loader_length)\n",
    "\n",
    "    print(f'| Test Loss: {test_loss:.3f} | Test PPL: {math.exp(test_loss):7.3f} |')"
   ]
  },
  {
   "cell_type": "markdown",
   "metadata": {},
   "source": [
    "### Result function"
   ]
  },
  {
   "cell_type": "code",
   "execution_count": 50,
   "metadata": {},
   "outputs": [],
   "source": [
    "def result_print(train_loss, valid_loss):\n",
    "    print(f'Training loss : {train_loss:.3f} | perplexity : {math.exp(train_loss):7.3f}\\nValidation loss : {valid_loss:.3f} | perplexity : {math.exp(valid_loss):7.3f}')"
   ]
  },
  {
   "cell_type": "markdown",
   "metadata": {},
   "source": [
    "### Plot function"
   ]
  },
  {
   "cell_type": "code",
   "execution_count": 51,
   "metadata": {},
   "outputs": [],
   "source": [
    "import matplotlib.pyplot as plt\n",
    "def plot_loss(train_losses, valid_losses):\n",
    "    fig = plt.figure(figsize=(5, 3))\n",
    "    ax = fig.add_subplot(1, 1, 1)\n",
    "    ax.plot(train_losses, label = 'train loss')\n",
    "    ax.plot(valid_losses, label = 'valid loss')\n",
    "    plt.legend()\n",
    "    ax.set_xlabel('updates')\n",
    "    ax.set_ylabel('loss')"
   ]
  },
  {
   "cell_type": "markdown",
   "metadata": {},
   "source": [
    "## General train"
   ]
  },
  {
   "cell_type": "code",
   "execution_count": 53,
   "metadata": {},
   "outputs": [
    {
     "name": "stdout",
     "output_type": "stream",
     "text": [
      "Epoch: 01 | Time: 0m 17s\n",
      "\tTrain Loss: 4.032 | Train PPL:  56.395\n",
      "\t Val. Loss: 3.743 |  Val. PPL:  42.239\n",
      "Epoch: 02 | Time: 0m 17s\n",
      "\tTrain Loss: 3.709 | Train PPL:  40.806\n",
      "\t Val. Loss: 3.629 |  Val. PPL:  37.676\n",
      "Epoch: 03 | Time: 0m 17s\n",
      "\tTrain Loss: 3.446 | Train PPL:  31.384\n",
      "\t Val. Loss: 3.395 |  Val. PPL:  29.812\n",
      "Epoch: 04 | Time: 0m 17s\n",
      "\tTrain Loss: 3.251 | Train PPL:  25.819\n",
      "\t Val. Loss: 3.313 |  Val. PPL:  27.480\n",
      "Epoch: 05 | Time: 0m 16s\n",
      "\tTrain Loss: 3.076 | Train PPL:  21.670\n",
      "\t Val. Loss: 3.293 |  Val. PPL:  26.911\n",
      "Epoch: 06 | Time: 0m 16s\n",
      "\tTrain Loss: 2.878 | Train PPL:  17.774\n",
      "\t Val. Loss: 3.198 |  Val. PPL:  24.494\n",
      "Epoch: 07 | Time: 0m 16s\n",
      "\tTrain Loss: 2.725 | Train PPL:  15.264\n",
      "\t Val. Loss: 3.209 |  Val. PPL:  24.745\n",
      "Epoch: 08 | Time: 0m 16s\n",
      "\tTrain Loss: 2.609 | Train PPL:  13.582\n",
      "\t Val. Loss: 3.131 |  Val. PPL:  22.905\n",
      "Epoch: 09 | Time: 0m 17s\n",
      "\tTrain Loss: 2.449 | Train PPL:  11.575\n",
      "\t Val. Loss: 3.152 |  Val. PPL:  23.392\n",
      "Epoch: 10 | Time: 0m 17s\n",
      "\tTrain Loss: 2.362 | Train PPL:  10.612\n",
      "\t Val. Loss: 3.089 |  Val. PPL:  21.949\n",
      "Training Time: 2m 51s\n"
     ]
    }
   ],
   "source": [
    "train_losses, valid_losses, gen_val_loss, gen_train_loss = train_loop(genmodel, optimizer_gen, criterion_gen)"
   ]
  },
  {
   "cell_type": "code",
   "execution_count": 54,
   "metadata": {},
   "outputs": [
    {
     "data": {
      "image/png": "[encoded data removed]",
      "text/plain": [
       "<Figure size 500x300 with 1 Axes>"
      ]
     },
     "metadata": {},
     "output_type": "display_data"
    }
   ],
   "source": [
    "plot_loss(train_losses, valid_losses)"
   ]
  },
  {
   "cell_type": "code",
   "execution_count": 55,
   "metadata": {},
   "outputs": [
    {
     "name": "stdout",
     "output_type": "stream",
     "text": [
      "Training loss : 2.362 | perplexity :  10.612\n",
      "Validation loss : 3.089 | perplexity :  21.949\n"
     ]
    }
   ],
   "source": [
    "result_print(gen_train_loss, gen_val_loss)"
   ]
  },
  {
   "cell_type": "code",
   "execution_count": 56,
   "metadata": {},
   "outputs": [
    {
     "name": "stdout",
     "output_type": "stream",
     "text": [
      "| Test Loss: 3.279 | Test PPL:  26.536 |\n"
     ]
    }
   ],
   "source": [
    "test_loop(genmodel)"
   ]
  },
  {
   "cell_type": "markdown",
   "metadata": {},
   "source": [
    "## Multiplicative train"
   ]
  },
  {
   "cell_type": "code",
   "execution_count": 57,
   "metadata": {},
   "outputs": [
    {
     "name": "stdout",
     "output_type": "stream",
     "text": [
      "Epoch: 01 | Time: 0m 16s\n",
      "\tTrain Loss: 4.581 | Train PPL:  97.577\n",
      "\t Val. Loss: 3.959 |  Val. PPL:  52.419\n",
      "Epoch: 02 | Time: 0m 17s\n",
      "\tTrain Loss: 3.834 | Train PPL:  46.253\n",
      "\t Val. Loss: 3.605 |  Val. PPL:  36.787\n",
      "Epoch: 03 | Time: 0m 18s\n",
      "\tTrain Loss: 3.400 | Train PPL:  29.962\n",
      "\t Val. Loss: 3.296 |  Val. PPL:  27.015\n",
      "Epoch: 04 | Time: 0m 17s\n",
      "\tTrain Loss: 3.088 | Train PPL:  21.933\n",
      "\t Val. Loss: 3.170 |  Val. PPL:  23.807\n",
      "Epoch: 05 | Time: 0m 16s\n",
      "\tTrain Loss: 2.824 | Train PPL:  16.851\n",
      "\t Val. Loss: 3.094 |  Val. PPL:  22.067\n",
      "Epoch: 06 | Time: 0m 15s\n",
      "\tTrain Loss: 2.572 | Train PPL:  13.096\n",
      "\t Val. Loss: 2.940 |  Val. PPL:  18.921\n",
      "Epoch: 07 | Time: 0m 17s\n",
      "\tTrain Loss: 2.361 | Train PPL:  10.597\n",
      "\t Val. Loss: 2.866 |  Val. PPL:  17.573\n",
      "Epoch: 08 | Time: 0m 16s\n",
      "\tTrain Loss: 2.150 | Train PPL:   8.585\n",
      "\t Val. Loss: 2.904 |  Val. PPL:  18.242\n",
      "Epoch: 09 | Time: 0m 15s\n",
      "\tTrain Loss: 1.964 | Train PPL:   7.125\n",
      "\t Val. Loss: 2.899 |  Val. PPL:  18.164\n",
      "Epoch: 10 | Time: 0m 16s\n",
      "\tTrain Loss: 1.803 | Train PPL:   6.071\n",
      "\t Val. Loss: 2.820 |  Val. PPL:  16.781\n",
      "Training Time: 2m 49s\n"
     ]
    }
   ],
   "source": [
    "train_losses, valid_losses, mul_train_loss, mul_val_loss = train_loop(mulmodel, optimizer_mul, criterion_mul)"
   ]
  },
  {
   "cell_type": "code",
   "execution_count": 58,
   "metadata": {},
   "outputs": [
    {
     "data": {
      "image/png": "[encoded data removed]",
      "text/plain": [
       "<Figure size 500x300 with 1 Axes>"
      ]
     },
     "metadata": {},
     "output_type": "display_data"
    }
   ],
   "source": [
    "plot_loss(train_losses, valid_losses)"
   ]
  },
  {
   "cell_type": "code",
   "execution_count": 59,
   "metadata": {},
   "outputs": [
    {
     "name": "stdout",
     "output_type": "stream",
     "text": [
      "| Test Loss: 3.110 | Test PPL:  22.422 |\n"
     ]
    }
   ],
   "source": [
    "test_loop(mulmodel)"
   ]
  },
  {
   "cell_type": "code",
   "execution_count": 60,
   "metadata": {},
   "outputs": [
    {
     "name": "stdout",
     "output_type": "stream",
     "text": [
      "Training loss : 2.820 | perplexity :  16.781\n",
      "Validation loss : 1.803 | perplexity :   6.071\n"
     ]
    }
   ],
   "source": [
    "result_print(mul_train_loss, mul_val_loss)"
   ]
  },
  {
   "cell_type": "markdown",
   "metadata": {},
   "source": [
    "## Additive train"
   ]
  },
  {
   "cell_type": "code",
   "execution_count": 61,
   "metadata": {},
   "outputs": [
    {
     "name": "stdout",
     "output_type": "stream",
     "text": [
      "Epoch: 01 | Time: 0m 17s\n",
      "\tTrain Loss: 4.540 | Train PPL:  93.725\n",
      "\t Val. Loss: 3.955 |  Val. PPL:  52.188\n",
      "Epoch: 02 | Time: 0m 17s\n",
      "\tTrain Loss: 3.645 | Train PPL:  38.282\n",
      "\t Val. Loss: 3.327 |  Val. PPL:  27.864\n",
      "Epoch: 03 | Time: 0m 18s\n",
      "\tTrain Loss: 3.108 | Train PPL:  22.371\n",
      "\t Val. Loss: 3.117 |  Val. PPL:  22.583\n",
      "Epoch: 04 | Time: 0m 17s\n",
      "\tTrain Loss: 2.725 | Train PPL:  15.261\n",
      "\t Val. Loss: 2.949 |  Val. PPL:  19.093\n",
      "Epoch: 05 | Time: 0m 16s\n",
      "\tTrain Loss: 2.414 | Train PPL:  11.184\n",
      "\t Val. Loss: 2.893 |  Val. PPL:  18.053\n",
      "Epoch: 06 | Time: 0m 17s\n",
      "\tTrain Loss: 2.158 | Train PPL:   8.657\n",
      "\t Val. Loss: 2.845 |  Val. PPL:  17.205\n",
      "Epoch: 07 | Time: 0m 17s\n",
      "\tTrain Loss: 1.948 | Train PPL:   7.012\n",
      "\t Val. Loss: 2.818 |  Val. PPL:  16.739\n",
      "Epoch: 08 | Time: 0m 18s\n",
      "\tTrain Loss: 1.752 | Train PPL:   5.764\n",
      "\t Val. Loss: 2.801 |  Val. PPL:  16.454\n",
      "Epoch: 09 | Time: 0m 18s\n",
      "\tTrain Loss: 1.563 | Train PPL:   4.775\n",
      "\t Val. Loss: 2.797 |  Val. PPL:  16.392\n",
      "Epoch: 10 | Time: 0m 17s\n",
      "\tTrain Loss: 1.419 | Train PPL:   4.131\n",
      "\t Val. Loss: 2.891 |  Val. PPL:  18.006\n",
      "Training Time: 2m 58s\n"
     ]
    }
   ],
   "source": [
    "train_losses, valid_losses, add_train_loss, add_val_loss = train_loop(addmodel, optimizer_add, criterion_add)"
   ]
  },
  {
   "cell_type": "code",
   "execution_count": 62,
   "metadata": {},
   "outputs": [
    {
     "data": {
      "image/png": "[encoded data removed]",
      "text/plain": [
       "<Figure size 500x300 with 1 Axes>"
      ]
     },
     "metadata": {},
     "output_type": "display_data"
    }
   ],
   "source": [
    "plot_loss(train_losses, valid_losses)"
   ]
  },
  {
   "cell_type": "code",
   "execution_count": 63,
   "metadata": {},
   "outputs": [
    {
     "name": "stdout",
     "output_type": "stream",
     "text": [
      "| Test Loss: 3.032 | Test PPL:  20.734 |\n"
     ]
    }
   ],
   "source": [
    "test_loop(addmodel)"
   ]
  },
  {
   "cell_type": "code",
   "execution_count": 64,
   "metadata": {},
   "outputs": [
    {
     "name": "stdout",
     "output_type": "stream",
     "text": [
      "Training loss : 2.797 | perplexity :  16.392\n",
      "Validation loss : 1.563 | perplexity :   4.775\n"
     ]
    }
   ],
   "source": [
    "result_print(add_train_loss, add_val_loss)"
   ]
  },
  {
   "cell_type": "markdown",
   "metadata": {},
   "source": [
    "# 5. Inference"
   ]
  },
  {
   "cell_type": "markdown",
   "metadata": {},
   "source": [
    "## Generator function"
   ]
  },
  {
   "cell_type": "code",
   "execution_count": 2,
   "metadata": {},
   "outputs": [
    {
     "ename": "NameError",
     "evalue": "name 'vocab_transform' is not defined",
     "output_type": "error",
     "traceback": [
      "\u001b[1;31m---------------------------------------------------------------------------\u001b[0m",
      "\u001b[1;31mNameError\u001b[0m                                 Traceback (most recent call last)",
      "Cell \u001b[1;32mIn[2], line 2\u001b[0m\n\u001b[0;32m      1\u001b[0m mapping \u001b[38;5;241m=\u001b[39m {}\n\u001b[1;32m----> 2\u001b[0m mapping[SRC_LANGUAGE] \u001b[38;5;241m=\u001b[39m \u001b[43mvocab_transform\u001b[49m[SRC_LANGUAGE]\u001b[38;5;241m.\u001b[39mget_itos()\n\u001b[0;32m      3\u001b[0m mapping[TRG_LANGUAGE] \u001b[38;5;241m=\u001b[39m vocab_transform[TRG_LANGUAGE]\u001b[38;5;241m.\u001b[39mget_itos()\n",
      "\u001b[1;31mNameError\u001b[0m: name 'vocab_transform' is not defined"
     ]
    }
   ],
   "source": [
    "mapping = {}\n",
    "mapping[SRC_LANGUAGE] = vocab_transform[SRC_LANGUAGE].get_itos()\n",
    "mapping[TRG_LANGUAGE] = vocab_transform[TRG_LANGUAGE].get_itos()"
   ]
  },
  {
   "cell_type": "code",
   "execution_count": 3,
   "metadata": {},
   "outputs": [
    {
     "ename": "NameError",
     "evalue": "name 'device' is not defined",
     "output_type": "error",
     "traceback": [
      "\u001b[1;31m---------------------------------------------------------------------------\u001b[0m",
      "\u001b[1;31mNameError\u001b[0m                                 Traceback (most recent call last)",
      "Cell \u001b[1;32mIn[3], line 1\u001b[0m\n\u001b[1;32m----> 1\u001b[0m \u001b[38;5;28;01mdef\u001b[39;00m\u001b[38;5;250m \u001b[39m\u001b[38;5;21mgreedy_decode\u001b[39m(model, src, max_len\u001b[38;5;241m=\u001b[39m\u001b[38;5;241m50\u001b[39m, device\u001b[38;5;241m=\u001b[39m\u001b[43mdevice\u001b[49m):\n\u001b[0;32m      2\u001b[0m     src \u001b[38;5;241m=\u001b[39m text_transform[SRC_LANGUAGE](src)\u001b[38;5;241m.\u001b[39mto(device)\u001b[38;5;241m.\u001b[39munsqueeze(\u001b[38;5;241m0\u001b[39m) \u001b[38;5;66;03m# token >> vocab >> tensor\u001b[39;00m\n\u001b[0;32m      3\u001b[0m     model\u001b[38;5;241m.\u001b[39meval()\n",
      "\u001b[1;31mNameError\u001b[0m: name 'device' is not defined"
     ]
    }
   ],
   "source": [
    "def greedy_decode(model, src, max_len=50, device=device):\n",
    "    src = text_transform[SRC_LANGUAGE](src).to(device).unsqueeze(0) # token >> vocab >> tensor\n",
    "    model.eval()\n",
    "    \n",
    "    trg_indexes = [SOS_IDX]\n",
    "    \n",
    "    for i in range(max_len):\n",
    "        trg_tensor = torch.LongTensor(trg_indexes).unsqueeze(0).to(device)\n",
    "        \n",
    "        with torch.no_grad():\n",
    "            output, attentions = model(src, trg_tensor)\n",
    "        \n",
    "        pred_token = output.argmax(2)[:, -1].item()\n",
    "        trg_indexes.append(pred_token)\n",
    "        \n",
    "        if pred_token == EOS_IDX:\n",
    "            break\n",
    "    \n",
    "    # print(trg_indexes)\n",
    "    trg_tokens = [mapping[TRG_LANGUAGE][i] for i in trg_indexes]\n",
    "    return trg_tokens[1:], attentions  # Exclude the <sos> token\n"
   ]
  },
  {
   "cell_type": "markdown",
   "metadata": {},
   "source": [
    "## General inference"
   ]
  },
  {
   "cell_type": "code",
   "execution_count": 67,
   "metadata": {},
   "outputs": [
    {
     "data": {
      "text/plain": [
       "<All keys matched successfully>"
      ]
     },
     "execution_count": 67,
     "metadata": {},
     "output_type": "execute_result"
    }
   ],
   "source": [
    "save_path = f'./app/models/genmodel.pt'\n",
    "genmodel.load_state_dict(torch.load(save_path))"
   ]
  },
  {
   "cell_type": "code",
   "execution_count": 1,
   "metadata": {},
   "outputs": [
    {
     "ename": "NameError",
     "evalue": "name 'greedy_decode' is not defined",
     "output_type": "error",
     "traceback": [
      "\u001b[1;31m---------------------------------------------------------------------------\u001b[0m",
      "\u001b[1;31mNameError\u001b[0m                                 Traceback (most recent call last)",
      "Cell \u001b[1;32mIn[1], line 4\u001b[0m\n\u001b[0;32m      1\u001b[0m \u001b[38;5;66;03m# Example usage\u001b[39;00m\n\u001b[0;32m      2\u001b[0m gen_src_sentence \u001b[38;5;241m=\u001b[39m \u001b[38;5;124m\"\u001b[39m\u001b[38;5;124mI go to school\u001b[39m\u001b[38;5;124m\"\u001b[39m\n\u001b[1;32m----> 4\u001b[0m gen_output_sentence, gen_attentions \u001b[38;5;241m=\u001b[39m \u001b[43mgreedy_decode\u001b[49m(genmodel, gen_src_sentence, max_len\u001b[38;5;241m=\u001b[39m\u001b[38;5;241m50\u001b[39m, device\u001b[38;5;241m=\u001b[39mdevice)\n\u001b[0;32m      5\u001b[0m \u001b[38;5;28mprint\u001b[39m(\u001b[38;5;124m\"\u001b[39m\u001b[38;5;124mPredicted Sentence:\u001b[39m\u001b[38;5;124m\"\u001b[39m, \u001b[38;5;124m'\u001b[39m\u001b[38;5;124m \u001b[39m\u001b[38;5;124m'\u001b[39m\u001b[38;5;241m.\u001b[39mjoin(gen_output_sentence))\n",
      "\u001b[1;31mNameError\u001b[0m: name 'greedy_decode' is not defined"
     ]
    }
   ],
   "source": [
    "# Example usage\n",
    "gen_src_sentence = \"I go to school\"\n",
    "\n",
    "gen_output_sentence, gen_attentions = greedy_decode(genmodel, gen_src_sentence, max_len=50, device=device)\n",
    "print(\"Predicted Sentence:\", ' '.join(gen_output_sentence))"
   ]
  },
  {
   "cell_type": "markdown",
   "metadata": {},
   "source": [
    "## Multiplicative inference"
   ]
  },
  {
   "cell_type": "code",
   "execution_count": 70,
   "metadata": {},
   "outputs": [
    {
     "data": {
      "text/plain": [
       "<All keys matched successfully>"
      ]
     },
     "execution_count": 70,
     "metadata": {},
     "output_type": "execute_result"
    }
   ],
   "source": [
    "save_path = f'./app/models/mulmodel.pt'\n",
    "mulmodel.load_state_dict(torch.load(save_path))"
   ]
  },
  {
   "cell_type": "code",
   "execution_count": 95,
   "metadata": {},
   "outputs": [
    {
     "name": "stdout",
     "output_type": "stream",
     "text": [
      "Predicted Sentence: ကျွန်တော် ဆေးလိပ် သောက် တယ် ။ <eos>\n"
     ]
    }
   ],
   "source": [
    "# Example usage\n",
    "mul_src_sentence = \"I love you\"\n",
    "\n",
    "mul_output_sentence, mul_attentions = greedy_decode(mulmodel, mul_src_sentence, max_len=50, device=device)\n",
    "print(\"Predicted Sentence:\", ' '.join(mul_output_sentence))"
   ]
  },
  {
   "cell_type": "markdown",
   "metadata": {},
   "source": [
    "## Additive inference"
   ]
  },
  {
   "cell_type": "code",
   "execution_count": 72,
   "metadata": {},
   "outputs": [
    {
     "data": {
      "text/plain": [
       "<All keys matched successfully>"
      ]
     },
     "execution_count": 72,
     "metadata": {},
     "output_type": "execute_result"
    }
   ],
   "source": [
    "save_path = f'./app/models/addmodel.pt'\n",
    "addmodel.load_state_dict(torch.load(save_path))"
   ]
  },
  {
   "cell_type": "code",
   "execution_count": 97,
   "metadata": {},
   "outputs": [
    {
     "name": "stdout",
     "output_type": "stream",
     "text": [
      "Predicted Sentence: ကျွန်တော် အမြဲတမ်း <unk> ပဲ စား နေ တယ် ။ <eos>\n"
     ]
    }
   ],
   "source": [
    "# Example usage\n",
    "add_src_sentence = \"I love you\"\n",
    "\n",
    "add_output_sentence, add_attentions = greedy_decode(addmodel, add_src_sentence, max_len=50, device=device)\n",
    "print(\"Predicted Sentence:\", ' '.join(add_output_sentence))"
   ]
  },
  {
   "cell_type": "markdown",
   "metadata": {},
   "source": [
    "## Attention map"
   ]
  },
  {
   "cell_type": "markdown",
   "metadata": {},
   "source": [
    "## Random sample for attention map"
   ]
  },
  {
   "cell_type": "code",
   "execution_count": 74,
   "metadata": {},
   "outputs": [],
   "source": [
    "src_text = corpus['train'][0]['en']\n",
    "trg_text = corpus['train'][0]['my']"
   ]
  },
  {
   "cell_type": "code",
   "execution_count": 75,
   "metadata": {},
   "outputs": [
    {
     "data": {
      "text/plain": [
       "'မနေ့က အရက် နည်းနည်း သောက်ခဲ့တယ်။'"
      ]
     },
     "execution_count": 75,
     "metadata": {},
     "output_type": "execute_result"
    }
   ],
   "source": [
    "trg_text"
   ]
  },
  {
   "cell_type": "code",
   "execution_count": 76,
   "metadata": {},
   "outputs": [],
   "source": [
    "source = text_transform[SRC_LANGUAGE](src_text).to(device).unsqueeze(0)\n",
    "target = text_transform[TRG_LANGUAGE](trg_text).to(device).unsqueeze(0)"
   ]
  },
  {
   "cell_type": "code",
   "execution_count": 83,
   "metadata": {},
   "outputs": [],
   "source": [
    "with torch.no_grad():\n",
    "    gen_output, gen_attentions = genmodel(source, target)\n",
    "with torch.no_grad():\n",
    "    mul_output, mul_attentions = mulmodel(source, target)\n",
    "with torch.no_grad():\n",
    "    add_output, add_attentions = addmodel(source, target)"
   ]
  },
  {
   "cell_type": "code",
   "execution_count": 84,
   "metadata": {},
   "outputs": [],
   "source": [
    "def get_output(output):\n",
    "    output = output.squeeze(0)\n",
    "    output = output[1:]\n",
    "    output_max = output.argmax(1)\n",
    "    trg_tokens = ['<sos>'] + [mapping[TRG_LANGUAGE][token.item()] for token in output_max]\n",
    "    return trg_tokens"
   ]
  },
  {
   "cell_type": "code",
   "execution_count": 85,
   "metadata": {},
   "outputs": [],
   "source": [
    "src_tokens = ['<sos>'] + token_transform[SRC_LANGUAGE](src_text) + ['<eos>']"
   ]
  },
  {
   "cell_type": "markdown",
   "metadata": {},
   "source": [
    "### Attention function"
   ]
  },
  {
   "cell_type": "code",
   "execution_count": 86,
   "metadata": {},
   "outputs": [],
   "source": [
    "import warnings\n",
    "warnings.filterwarnings(\"ignore\", category=UserWarning)"
   ]
  },
  {
   "cell_type": "code",
   "execution_count": 87,
   "metadata": {},
   "outputs": [],
   "source": [
    "import matplotlib.ticker as ticker\n",
    "\n",
    "def display_attention(sentence, translation, attention):\n",
    "    \n",
    "    fig = plt.figure(figsize=(10,10))\n",
    "    ax = fig.add_subplot(111)\n",
    "    attention = attention[0, 0, :, :]\n",
    "    \n",
    "    attention = attention.squeeze(1).cpu().detach().numpy()\n",
    "    \n",
    "    cax = ax.matshow(attention, cmap='bone')\n",
    "   \n",
    "    ax.tick_params(labelsize=10)\n",
    "    \n",
    "    y_ticks =  [''] + translation\n",
    "    x_ticks =  [''] + sentence \n",
    "     \n",
    "    ax.set_xticklabels(x_ticks, rotation=45)\n",
    "    ax.set_yticklabels(y_ticks, name='Myanmar Text')\n",
    "\n",
    "    ax.xaxis.set_major_locator(ticker.MultipleLocator(1))\n",
    "    ax.yaxis.set_major_locator(ticker.MultipleLocator(1))\n",
    "\n",
    "    plt.show()\n",
    "    plt.close()"
   ]
  },
  {
   "cell_type": "code",
   "execution_count": 88,
   "metadata": {},
   "outputs": [
    {
     "data": {
      "image/png": "[encoded data removed]",
      "text/plain": [
       "<Figure size 1000x1000 with 1 Axes>"
      ]
     },
     "metadata": {},
     "output_type": "display_data"
    },
    {
     "name": "stdout",
     "output_type": "stream",
     "text": [
      "['<sos>', 'နေ့', 'က', 'တင်းနစ်', 'သောက်', 'သောက်', 'လိုက်', 'တယ်', '။', '<eos>', 'သောက်']\n"
     ]
    }
   ],
   "source": [
    "trg_tokens = get_output(gen_output)\n",
    "display_attention(src_tokens, trg_tokens, gen_attentions)\n",
    "print(trg_tokens)"
   ]
  },
  {
   "cell_type": "code",
   "execution_count": 89,
   "metadata": {},
   "outputs": [
    {
     "data": {
      "image/png": "[encoded data removed]",
      "text/plain": [
       "<Figure size 1000x1000 with 1 Axes>"
      ]
     },
     "metadata": {},
     "output_type": "display_data"
    },
    {
     "name": "stdout",
     "output_type": "stream",
     "text": [
      "['<sos>', 'နေ့', 'က', 'ဆံပင်ညှပ်', 'နှစ်', 'နှစ်', 'ခဲ့', 'တယ်', '။', '<eos>', 'ခဲ့']\n"
     ]
    }
   ],
   "source": [
    "trg_tokens = get_output(mul_output)\n",
    "display_attention(src_tokens, trg_tokens, mul_attentions)\n",
    "print(trg_tokens)"
   ]
  },
  {
   "cell_type": "code",
   "execution_count": 90,
   "metadata": {},
   "outputs": [
    {
     "data": {
      "image/png": "[encoded data removed]",
      "text/plain": [
       "<Figure size 1000x1000 with 1 Axes>"
      ]
     },
     "metadata": {},
     "output_type": "display_data"
    },
    {
     "name": "stdout",
     "output_type": "stream",
     "text": [
      "['<sos>', 'နေ့', 'က', 'ကျွန်တော်', 'သောက်', 'သောက်', 'ခဲ့', 'တယ်', '။', '<eos>', 'တယ်']\n"
     ]
    }
   ],
   "source": [
    "trg_tokens = get_output(add_output)\n",
    "display_attention(src_tokens, trg_tokens, add_attentions)\n",
    "print(trg_tokens)"
   ]
  },
  {
   "cell_type": "markdown",
   "metadata": {},
   "source": []
  },
  {
   "cell_type": "markdown",
   "metadata": {},
   "source": [
    "## BLEU score"
   ]
  },
  {
   "cell_type": "code",
   "execution_count": 92,
   "metadata": {},
   "outputs": [
    {
     "name": "stdout",
     "output_type": "stream",
     "text": [
      "Collecting nltkNote: you may need to restart the kernel to use updated packages.\n",
      "\n",
      "  Using cached nltk-3.9.1-py3-none-any.whl.metadata (2.9 kB)\n",
      "Requirement already satisfied: click in c:\\users\\jue\\desktop\\nlp\\a3\\.venv\\lib\\site-packages (from nltk) (8.1.8)\n",
      "Collecting joblib (from nltk)\n",
      "  Using cached joblib-1.4.2-py3-none-any.whl.metadata (5.4 kB)\n",
      "Collecting regex>=2021.8.3 (from nltk)\n",
      "  Using cached regex-2024.11.6-cp311-cp311-win_amd64.whl.metadata (41 kB)\n",
      "Requirement already satisfied: tqdm in c:\\users\\jue\\desktop\\nlp\\a3\\.venv\\lib\\site-packages (from nltk) (4.66.5)\n",
      "Requirement already satisfied: colorama in c:\\users\\jue\\desktop\\nlp\\a3\\.venv\\lib\\site-packages (from click->nltk) (0.4.6)\n",
      "Using cached nltk-3.9.1-py3-none-any.whl (1.5 MB)\n",
      "Using cached regex-2024.11.6-cp311-cp311-win_amd64.whl (274 kB)\n",
      "Using cached joblib-1.4.2-py3-none-any.whl (301 kB)\n",
      "Installing collected packages: regex, joblib, nltk\n",
      "Successfully installed joblib-1.4.2 nltk-3.9.1 regex-2024.11.6\n"
     ]
    }
   ],
   "source": [
    "pip install nltk"
   ]
  },
  {
   "cell_type": "code",
   "execution_count": 93,
   "metadata": {},
   "outputs": [
    {
     "name": "stdout",
     "output_type": "stream",
     "text": [
      "0\n"
     ]
    }
   ],
   "source": [
    "from nltk.translate.bleu_score import sentence_bleu\n",
    "\n",
    "src_text = corpus['train'][89]['en']\n",
    "trg_text = corpus['train'][89]['my']\n",
    "\n",
    "src_token = token_transform[SRC_LANGUAGE](src_text)\n",
    "trg_token = token_transform[TRG_LANGUAGE](trg_text)\n",
    "\n",
    "print(sentence_bleu([src_token], trg_token))"
   ]
  },
  {
   "cell_type": "code",
   "execution_count": null,
   "metadata": {},
   "outputs": [],
   "source": []
  }
 ],
 "metadata": {
  "kernelspec": {
   "display_name": ".venv",
   "language": "python",
   "name": "python3"
  },
  "language_info": {
   "codemirror_mode": {
    "name": "ipython",
    "version": 3
   },
   "file_extension": ".py",
   "mimetype": "text/x-python",
   "name": "python",
   "nbconvert_exporter": "python",
   "pygments_lexer": "ipython3",
   "version": "3.11.9"
  }
 },
 "nbformat": 4,
 "nbformat_minor": 2
}
